{
 "cells": [
  {
   "cell_type": "code",
   "execution_count": 1,
   "id": "b21c5fbe",
   "metadata": {},
   "outputs": [],
   "source": [
    "import requests\n",
    "import pandas as pd"
   ]
  },
  {
   "cell_type": "code",
   "execution_count": 3,
   "id": "ce9ab574",
   "metadata": {},
   "outputs": [],
   "source": [
    "sw_page = 'https://swapi.dev/api'"
   ]
  },
  {
   "cell_type": "code",
   "execution_count": 4,
   "id": "300a8e12",
   "metadata": {},
   "outputs": [],
   "source": [
    "response = requests.get(sw_page)"
   ]
  },
  {
   "cell_type": "code",
   "execution_count": 5,
   "id": "66963168",
   "metadata": {},
   "outputs": [
    {
     "data": {
      "text/plain": [
       "'{\"people\":\"https://swapi.dev/api/people/\",\"planets\":\"https://swapi.dev/api/planets/\",\"films\":\"https://swapi.dev/api/films/\",\"species\":\"https://swapi.dev/api/species/\",\"vehicles\":\"https://swapi.dev/api/vehicles/\",\"starships\":\"https://swapi.dev/api/starships/\"}'"
      ]
     },
     "execution_count": 5,
     "metadata": {},
     "output_type": "execute_result"
    }
   ],
   "source": [
    "response.text"
   ]
  },
  {
   "cell_type": "code",
   "execution_count": 6,
   "id": "1d9689fd",
   "metadata": {},
   "outputs": [],
   "source": [
    "home_page = response.json()"
   ]
  },
  {
   "cell_type": "code",
   "execution_count": 7,
   "id": "c67adc5d",
   "metadata": {},
   "outputs": [
    {
     "data": {
      "text/plain": [
       "{'people': 'https://swapi.dev/api/people/',\n",
       " 'planets': 'https://swapi.dev/api/planets/',\n",
       " 'films': 'https://swapi.dev/api/films/',\n",
       " 'species': 'https://swapi.dev/api/species/',\n",
       " 'vehicles': 'https://swapi.dev/api/vehicles/',\n",
       " 'starships': 'https://swapi.dev/api/starships/'}"
      ]
     },
     "execution_count": 7,
     "metadata": {},
     "output_type": "execute_result"
    }
   ],
   "source": [
    "home_page"
   ]
  },
  {
   "cell_type": "code",
   "execution_count": 15,
   "id": "3385f740",
   "metadata": {},
   "outputs": [
    {
     "data": {
      "text/plain": [
       "'https://swapi.dev/api/people/'"
      ]
     },
     "execution_count": 15,
     "metadata": {},
     "output_type": "execute_result"
    }
   ],
   "source": [
    "home_page['people']"
   ]
  },
  {
   "cell_type": "code",
   "execution_count": 16,
   "id": "c7ecb8bb",
   "metadata": {},
   "outputs": [],
   "source": [
    "people_payload = requests.get(home_page['people']).json()"
   ]
  },
  {
   "cell_type": "code",
   "execution_count": 20,
   "id": "3a31a1ac",
   "metadata": {},
   "outputs": [
    {
     "data": {
      "text/plain": [
       "dict_keys(['count', 'next', 'previous', 'results'])"
      ]
     },
     "execution_count": 20,
     "metadata": {},
     "output_type": "execute_result"
    }
   ],
   "source": [
    "people_payload.keys()"
   ]
  },
  {
   "cell_type": "code",
   "execution_count": 19,
   "id": "35314203",
   "metadata": {
    "scrolled": true
   },
   "outputs": [
    {
     "data": {
      "text/plain": [
       "{'count': 82,\n",
       " 'next': 'https://swapi.dev/api/people/?page=2',\n",
       " 'previous': None,\n",
       " 'results': [{'name': 'Luke Skywalker',\n",
       "   'height': '172',\n",
       "   'mass': '77',\n",
       "   'hair_color': 'blond',\n",
       "   'skin_color': 'fair',\n",
       "   'eye_color': 'blue',\n",
       "   'birth_year': '19BBY',\n",
       "   'gender': 'male',\n",
       "   'homeworld': 'https://swapi.dev/api/planets/1/',\n",
       "   'films': ['https://swapi.dev/api/films/1/',\n",
       "    'https://swapi.dev/api/films/2/',\n",
       "    'https://swapi.dev/api/films/3/',\n",
       "    'https://swapi.dev/api/films/6/'],\n",
       "   'species': [],\n",
       "   'vehicles': ['https://swapi.dev/api/vehicles/14/',\n",
       "    'https://swapi.dev/api/vehicles/30/'],\n",
       "   'starships': ['https://swapi.dev/api/starships/12/',\n",
       "    'https://swapi.dev/api/starships/22/'],\n",
       "   'created': '2014-12-09T13:50:51.644000Z',\n",
       "   'edited': '2014-12-20T21:17:56.891000Z',\n",
       "   'url': 'https://swapi.dev/api/people/1/'},\n",
       "  {'name': 'C-3PO',\n",
       "   'height': '167',\n",
       "   'mass': '75',\n",
       "   'hair_color': 'n/a',\n",
       "   'skin_color': 'gold',\n",
       "   'eye_color': 'yellow',\n",
       "   'birth_year': '112BBY',\n",
       "   'gender': 'n/a',\n",
       "   'homeworld': 'https://swapi.dev/api/planets/1/',\n",
       "   'films': ['https://swapi.dev/api/films/1/',\n",
       "    'https://swapi.dev/api/films/2/',\n",
       "    'https://swapi.dev/api/films/3/',\n",
       "    'https://swapi.dev/api/films/4/',\n",
       "    'https://swapi.dev/api/films/5/',\n",
       "    'https://swapi.dev/api/films/6/'],\n",
       "   'species': ['https://swapi.dev/api/species/2/'],\n",
       "   'vehicles': [],\n",
       "   'starships': [],\n",
       "   'created': '2014-12-10T15:10:51.357000Z',\n",
       "   'edited': '2014-12-20T21:17:50.309000Z',\n",
       "   'url': 'https://swapi.dev/api/people/2/'},\n",
       "  {'name': 'R2-D2',\n",
       "   'height': '96',\n",
       "   'mass': '32',\n",
       "   'hair_color': 'n/a',\n",
       "   'skin_color': 'white, blue',\n",
       "   'eye_color': 'red',\n",
       "   'birth_year': '33BBY',\n",
       "   'gender': 'n/a',\n",
       "   'homeworld': 'https://swapi.dev/api/planets/8/',\n",
       "   'films': ['https://swapi.dev/api/films/1/',\n",
       "    'https://swapi.dev/api/films/2/',\n",
       "    'https://swapi.dev/api/films/3/',\n",
       "    'https://swapi.dev/api/films/4/',\n",
       "    'https://swapi.dev/api/films/5/',\n",
       "    'https://swapi.dev/api/films/6/'],\n",
       "   'species': ['https://swapi.dev/api/species/2/'],\n",
       "   'vehicles': [],\n",
       "   'starships': [],\n",
       "   'created': '2014-12-10T15:11:50.376000Z',\n",
       "   'edited': '2014-12-20T21:17:50.311000Z',\n",
       "   'url': 'https://swapi.dev/api/people/3/'},\n",
       "  {'name': 'Darth Vader',\n",
       "   'height': '202',\n",
       "   'mass': '136',\n",
       "   'hair_color': 'none',\n",
       "   'skin_color': 'white',\n",
       "   'eye_color': 'yellow',\n",
       "   'birth_year': '41.9BBY',\n",
       "   'gender': 'male',\n",
       "   'homeworld': 'https://swapi.dev/api/planets/1/',\n",
       "   'films': ['https://swapi.dev/api/films/1/',\n",
       "    'https://swapi.dev/api/films/2/',\n",
       "    'https://swapi.dev/api/films/3/',\n",
       "    'https://swapi.dev/api/films/6/'],\n",
       "   'species': [],\n",
       "   'vehicles': [],\n",
       "   'starships': ['https://swapi.dev/api/starships/13/'],\n",
       "   'created': '2014-12-10T15:18:20.704000Z',\n",
       "   'edited': '2014-12-20T21:17:50.313000Z',\n",
       "   'url': 'https://swapi.dev/api/people/4/'},\n",
       "  {'name': 'Leia Organa',\n",
       "   'height': '150',\n",
       "   'mass': '49',\n",
       "   'hair_color': 'brown',\n",
       "   'skin_color': 'light',\n",
       "   'eye_color': 'brown',\n",
       "   'birth_year': '19BBY',\n",
       "   'gender': 'female',\n",
       "   'homeworld': 'https://swapi.dev/api/planets/2/',\n",
       "   'films': ['https://swapi.dev/api/films/1/',\n",
       "    'https://swapi.dev/api/films/2/',\n",
       "    'https://swapi.dev/api/films/3/',\n",
       "    'https://swapi.dev/api/films/6/'],\n",
       "   'species': [],\n",
       "   'vehicles': ['https://swapi.dev/api/vehicles/30/'],\n",
       "   'starships': [],\n",
       "   'created': '2014-12-10T15:20:09.791000Z',\n",
       "   'edited': '2014-12-20T21:17:50.315000Z',\n",
       "   'url': 'https://swapi.dev/api/people/5/'},\n",
       "  {'name': 'Owen Lars',\n",
       "   'height': '178',\n",
       "   'mass': '120',\n",
       "   'hair_color': 'brown, grey',\n",
       "   'skin_color': 'light',\n",
       "   'eye_color': 'blue',\n",
       "   'birth_year': '52BBY',\n",
       "   'gender': 'male',\n",
       "   'homeworld': 'https://swapi.dev/api/planets/1/',\n",
       "   'films': ['https://swapi.dev/api/films/1/',\n",
       "    'https://swapi.dev/api/films/5/',\n",
       "    'https://swapi.dev/api/films/6/'],\n",
       "   'species': [],\n",
       "   'vehicles': [],\n",
       "   'starships': [],\n",
       "   'created': '2014-12-10T15:52:14.024000Z',\n",
       "   'edited': '2014-12-20T21:17:50.317000Z',\n",
       "   'url': 'https://swapi.dev/api/people/6/'},\n",
       "  {'name': 'Beru Whitesun lars',\n",
       "   'height': '165',\n",
       "   'mass': '75',\n",
       "   'hair_color': 'brown',\n",
       "   'skin_color': 'light',\n",
       "   'eye_color': 'blue',\n",
       "   'birth_year': '47BBY',\n",
       "   'gender': 'female',\n",
       "   'homeworld': 'https://swapi.dev/api/planets/1/',\n",
       "   'films': ['https://swapi.dev/api/films/1/',\n",
       "    'https://swapi.dev/api/films/5/',\n",
       "    'https://swapi.dev/api/films/6/'],\n",
       "   'species': [],\n",
       "   'vehicles': [],\n",
       "   'starships': [],\n",
       "   'created': '2014-12-10T15:53:41.121000Z',\n",
       "   'edited': '2014-12-20T21:17:50.319000Z',\n",
       "   'url': 'https://swapi.dev/api/people/7/'},\n",
       "  {'name': 'R5-D4',\n",
       "   'height': '97',\n",
       "   'mass': '32',\n",
       "   'hair_color': 'n/a',\n",
       "   'skin_color': 'white, red',\n",
       "   'eye_color': 'red',\n",
       "   'birth_year': 'unknown',\n",
       "   'gender': 'n/a',\n",
       "   'homeworld': 'https://swapi.dev/api/planets/1/',\n",
       "   'films': ['https://swapi.dev/api/films/1/'],\n",
       "   'species': ['https://swapi.dev/api/species/2/'],\n",
       "   'vehicles': [],\n",
       "   'starships': [],\n",
       "   'created': '2014-12-10T15:57:50.959000Z',\n",
       "   'edited': '2014-12-20T21:17:50.321000Z',\n",
       "   'url': 'https://swapi.dev/api/people/8/'},\n",
       "  {'name': 'Biggs Darklighter',\n",
       "   'height': '183',\n",
       "   'mass': '84',\n",
       "   'hair_color': 'black',\n",
       "   'skin_color': 'light',\n",
       "   'eye_color': 'brown',\n",
       "   'birth_year': '24BBY',\n",
       "   'gender': 'male',\n",
       "   'homeworld': 'https://swapi.dev/api/planets/1/',\n",
       "   'films': ['https://swapi.dev/api/films/1/'],\n",
       "   'species': [],\n",
       "   'vehicles': [],\n",
       "   'starships': ['https://swapi.dev/api/starships/12/'],\n",
       "   'created': '2014-12-10T15:59:50.509000Z',\n",
       "   'edited': '2014-12-20T21:17:50.323000Z',\n",
       "   'url': 'https://swapi.dev/api/people/9/'},\n",
       "  {'name': 'Obi-Wan Kenobi',\n",
       "   'height': '182',\n",
       "   'mass': '77',\n",
       "   'hair_color': 'auburn, white',\n",
       "   'skin_color': 'fair',\n",
       "   'eye_color': 'blue-gray',\n",
       "   'birth_year': '57BBY',\n",
       "   'gender': 'male',\n",
       "   'homeworld': 'https://swapi.dev/api/planets/20/',\n",
       "   'films': ['https://swapi.dev/api/films/1/',\n",
       "    'https://swapi.dev/api/films/2/',\n",
       "    'https://swapi.dev/api/films/3/',\n",
       "    'https://swapi.dev/api/films/4/',\n",
       "    'https://swapi.dev/api/films/5/',\n",
       "    'https://swapi.dev/api/films/6/'],\n",
       "   'species': [],\n",
       "   'vehicles': ['https://swapi.dev/api/vehicles/38/'],\n",
       "   'starships': ['https://swapi.dev/api/starships/48/',\n",
       "    'https://swapi.dev/api/starships/59/',\n",
       "    'https://swapi.dev/api/starships/64/',\n",
       "    'https://swapi.dev/api/starships/65/',\n",
       "    'https://swapi.dev/api/starships/74/'],\n",
       "   'created': '2014-12-10T16:16:29.192000Z',\n",
       "   'edited': '2014-12-20T21:17:50.325000Z',\n",
       "   'url': 'https://swapi.dev/api/people/10/'}]}"
      ]
     },
     "execution_count": 19,
     "metadata": {},
     "output_type": "execute_result"
    }
   ],
   "source": [
    "people_payload"
   ]
  },
  {
   "cell_type": "code",
   "execution_count": 27,
   "id": "23b83406",
   "metadata": {
    "scrolled": true
   },
   "outputs": [
    {
     "data": {
      "text/plain": [
       "[{'name': 'Luke Skywalker',\n",
       "  'height': '172',\n",
       "  'mass': '77',\n",
       "  'hair_color': 'blond',\n",
       "  'skin_color': 'fair',\n",
       "  'eye_color': 'blue',\n",
       "  'birth_year': '19BBY',\n",
       "  'gender': 'male',\n",
       "  'homeworld': 'https://swapi.dev/api/planets/1/',\n",
       "  'films': ['https://swapi.dev/api/films/1/',\n",
       "   'https://swapi.dev/api/films/2/',\n",
       "   'https://swapi.dev/api/films/3/',\n",
       "   'https://swapi.dev/api/films/6/'],\n",
       "  'species': [],\n",
       "  'vehicles': ['https://swapi.dev/api/vehicles/14/',\n",
       "   'https://swapi.dev/api/vehicles/30/'],\n",
       "  'starships': ['https://swapi.dev/api/starships/12/',\n",
       "   'https://swapi.dev/api/starships/22/'],\n",
       "  'created': '2014-12-09T13:50:51.644000Z',\n",
       "  'edited': '2014-12-20T21:17:56.891000Z',\n",
       "  'url': 'https://swapi.dev/api/people/1/'},\n",
       " {'name': 'C-3PO',\n",
       "  'height': '167',\n",
       "  'mass': '75',\n",
       "  'hair_color': 'n/a',\n",
       "  'skin_color': 'gold',\n",
       "  'eye_color': 'yellow',\n",
       "  'birth_year': '112BBY',\n",
       "  'gender': 'n/a',\n",
       "  'homeworld': 'https://swapi.dev/api/planets/1/',\n",
       "  'films': ['https://swapi.dev/api/films/1/',\n",
       "   'https://swapi.dev/api/films/2/',\n",
       "   'https://swapi.dev/api/films/3/',\n",
       "   'https://swapi.dev/api/films/4/',\n",
       "   'https://swapi.dev/api/films/5/',\n",
       "   'https://swapi.dev/api/films/6/'],\n",
       "  'species': ['https://swapi.dev/api/species/2/'],\n",
       "  'vehicles': [],\n",
       "  'starships': [],\n",
       "  'created': '2014-12-10T15:10:51.357000Z',\n",
       "  'edited': '2014-12-20T21:17:50.309000Z',\n",
       "  'url': 'https://swapi.dev/api/people/2/'},\n",
       " {'name': 'R2-D2',\n",
       "  'height': '96',\n",
       "  'mass': '32',\n",
       "  'hair_color': 'n/a',\n",
       "  'skin_color': 'white, blue',\n",
       "  'eye_color': 'red',\n",
       "  'birth_year': '33BBY',\n",
       "  'gender': 'n/a',\n",
       "  'homeworld': 'https://swapi.dev/api/planets/8/',\n",
       "  'films': ['https://swapi.dev/api/films/1/',\n",
       "   'https://swapi.dev/api/films/2/',\n",
       "   'https://swapi.dev/api/films/3/',\n",
       "   'https://swapi.dev/api/films/4/',\n",
       "   'https://swapi.dev/api/films/5/',\n",
       "   'https://swapi.dev/api/films/6/'],\n",
       "  'species': ['https://swapi.dev/api/species/2/'],\n",
       "  'vehicles': [],\n",
       "  'starships': [],\n",
       "  'created': '2014-12-10T15:11:50.376000Z',\n",
       "  'edited': '2014-12-20T21:17:50.311000Z',\n",
       "  'url': 'https://swapi.dev/api/people/3/'},\n",
       " {'name': 'Darth Vader',\n",
       "  'height': '202',\n",
       "  'mass': '136',\n",
       "  'hair_color': 'none',\n",
       "  'skin_color': 'white',\n",
       "  'eye_color': 'yellow',\n",
       "  'birth_year': '41.9BBY',\n",
       "  'gender': 'male',\n",
       "  'homeworld': 'https://swapi.dev/api/planets/1/',\n",
       "  'films': ['https://swapi.dev/api/films/1/',\n",
       "   'https://swapi.dev/api/films/2/',\n",
       "   'https://swapi.dev/api/films/3/',\n",
       "   'https://swapi.dev/api/films/6/'],\n",
       "  'species': [],\n",
       "  'vehicles': [],\n",
       "  'starships': ['https://swapi.dev/api/starships/13/'],\n",
       "  'created': '2014-12-10T15:18:20.704000Z',\n",
       "  'edited': '2014-12-20T21:17:50.313000Z',\n",
       "  'url': 'https://swapi.dev/api/people/4/'},\n",
       " {'name': 'Leia Organa',\n",
       "  'height': '150',\n",
       "  'mass': '49',\n",
       "  'hair_color': 'brown',\n",
       "  'skin_color': 'light',\n",
       "  'eye_color': 'brown',\n",
       "  'birth_year': '19BBY',\n",
       "  'gender': 'female',\n",
       "  'homeworld': 'https://swapi.dev/api/planets/2/',\n",
       "  'films': ['https://swapi.dev/api/films/1/',\n",
       "   'https://swapi.dev/api/films/2/',\n",
       "   'https://swapi.dev/api/films/3/',\n",
       "   'https://swapi.dev/api/films/6/'],\n",
       "  'species': [],\n",
       "  'vehicles': ['https://swapi.dev/api/vehicles/30/'],\n",
       "  'starships': [],\n",
       "  'created': '2014-12-10T15:20:09.791000Z',\n",
       "  'edited': '2014-12-20T21:17:50.315000Z',\n",
       "  'url': 'https://swapi.dev/api/people/5/'},\n",
       " {'name': 'Owen Lars',\n",
       "  'height': '178',\n",
       "  'mass': '120',\n",
       "  'hair_color': 'brown, grey',\n",
       "  'skin_color': 'light',\n",
       "  'eye_color': 'blue',\n",
       "  'birth_year': '52BBY',\n",
       "  'gender': 'male',\n",
       "  'homeworld': 'https://swapi.dev/api/planets/1/',\n",
       "  'films': ['https://swapi.dev/api/films/1/',\n",
       "   'https://swapi.dev/api/films/5/',\n",
       "   'https://swapi.dev/api/films/6/'],\n",
       "  'species': [],\n",
       "  'vehicles': [],\n",
       "  'starships': [],\n",
       "  'created': '2014-12-10T15:52:14.024000Z',\n",
       "  'edited': '2014-12-20T21:17:50.317000Z',\n",
       "  'url': 'https://swapi.dev/api/people/6/'},\n",
       " {'name': 'Beru Whitesun lars',\n",
       "  'height': '165',\n",
       "  'mass': '75',\n",
       "  'hair_color': 'brown',\n",
       "  'skin_color': 'light',\n",
       "  'eye_color': 'blue',\n",
       "  'birth_year': '47BBY',\n",
       "  'gender': 'female',\n",
       "  'homeworld': 'https://swapi.dev/api/planets/1/',\n",
       "  'films': ['https://swapi.dev/api/films/1/',\n",
       "   'https://swapi.dev/api/films/5/',\n",
       "   'https://swapi.dev/api/films/6/'],\n",
       "  'species': [],\n",
       "  'vehicles': [],\n",
       "  'starships': [],\n",
       "  'created': '2014-12-10T15:53:41.121000Z',\n",
       "  'edited': '2014-12-20T21:17:50.319000Z',\n",
       "  'url': 'https://swapi.dev/api/people/7/'},\n",
       " {'name': 'R5-D4',\n",
       "  'height': '97',\n",
       "  'mass': '32',\n",
       "  'hair_color': 'n/a',\n",
       "  'skin_color': 'white, red',\n",
       "  'eye_color': 'red',\n",
       "  'birth_year': 'unknown',\n",
       "  'gender': 'n/a',\n",
       "  'homeworld': 'https://swapi.dev/api/planets/1/',\n",
       "  'films': ['https://swapi.dev/api/films/1/'],\n",
       "  'species': ['https://swapi.dev/api/species/2/'],\n",
       "  'vehicles': [],\n",
       "  'starships': [],\n",
       "  'created': '2014-12-10T15:57:50.959000Z',\n",
       "  'edited': '2014-12-20T21:17:50.321000Z',\n",
       "  'url': 'https://swapi.dev/api/people/8/'},\n",
       " {'name': 'Biggs Darklighter',\n",
       "  'height': '183',\n",
       "  'mass': '84',\n",
       "  'hair_color': 'black',\n",
       "  'skin_color': 'light',\n",
       "  'eye_color': 'brown',\n",
       "  'birth_year': '24BBY',\n",
       "  'gender': 'male',\n",
       "  'homeworld': 'https://swapi.dev/api/planets/1/',\n",
       "  'films': ['https://swapi.dev/api/films/1/'],\n",
       "  'species': [],\n",
       "  'vehicles': [],\n",
       "  'starships': ['https://swapi.dev/api/starships/12/'],\n",
       "  'created': '2014-12-10T15:59:50.509000Z',\n",
       "  'edited': '2014-12-20T21:17:50.323000Z',\n",
       "  'url': 'https://swapi.dev/api/people/9/'},\n",
       " {'name': 'Obi-Wan Kenobi',\n",
       "  'height': '182',\n",
       "  'mass': '77',\n",
       "  'hair_color': 'auburn, white',\n",
       "  'skin_color': 'fair',\n",
       "  'eye_color': 'blue-gray',\n",
       "  'birth_year': '57BBY',\n",
       "  'gender': 'male',\n",
       "  'homeworld': 'https://swapi.dev/api/planets/20/',\n",
       "  'films': ['https://swapi.dev/api/films/1/',\n",
       "   'https://swapi.dev/api/films/2/',\n",
       "   'https://swapi.dev/api/films/3/',\n",
       "   'https://swapi.dev/api/films/4/',\n",
       "   'https://swapi.dev/api/films/5/',\n",
       "   'https://swapi.dev/api/films/6/'],\n",
       "  'species': [],\n",
       "  'vehicles': ['https://swapi.dev/api/vehicles/38/'],\n",
       "  'starships': ['https://swapi.dev/api/starships/48/',\n",
       "   'https://swapi.dev/api/starships/59/',\n",
       "   'https://swapi.dev/api/starships/64/',\n",
       "   'https://swapi.dev/api/starships/65/',\n",
       "   'https://swapi.dev/api/starships/74/'],\n",
       "  'created': '2014-12-10T16:16:29.192000Z',\n",
       "  'edited': '2014-12-20T21:17:50.325000Z',\n",
       "  'url': 'https://swapi.dev/api/people/10/'}]"
      ]
     },
     "execution_count": 27,
     "metadata": {},
     "output_type": "execute_result"
    }
   ],
   "source": [
    "people_payload['results']"
   ]
  },
  {
   "cell_type": "code",
   "execution_count": 23,
   "id": "33109277",
   "metadata": {},
   "outputs": [],
   "source": [
    "page_1 = pd.DataFrame(people_payload['results'])"
   ]
  },
  {
   "cell_type": "code",
   "execution_count": 30,
   "id": "9641d05d",
   "metadata": {},
   "outputs": [
    {
     "data": {
      "text/plain": [
       "'https://swapi.dev/api/people/?page=3'"
      ]
     },
     "execution_count": 30,
     "metadata": {},
     "output_type": "execute_result"
    }
   ],
   "source": [
    "people_payload['next']"
   ]
  },
  {
   "cell_type": "code",
   "execution_count": 29,
   "id": "d501721a",
   "metadata": {},
   "outputs": [],
   "source": [
    "people_payload2 = requests.get(people_payload['next']).json()"
   ]
  },
  {
   "cell_type": "code",
   "execution_count": 32,
   "id": "fe9620fc",
   "metadata": {
    "scrolled": false
   },
   "outputs": [],
   "source": [
    "page_2 = pd.DataFrame(people_payload2['results'])"
   ]
  },
  {
   "cell_type": "code",
   "execution_count": 28,
   "id": "a480c802",
   "metadata": {},
   "outputs": [],
   "source": [
    "i = 4\n",
    "changable_url = f'https://swapi.dev/api/people/?page={i}'"
   ]
  },
  {
   "cell_type": "code",
   "execution_count": null,
   "id": "f18cd16d",
   "metadata": {},
   "outputs": [],
   "source": [
    "page"
   ]
  }
 ],
 "metadata": {
  "kernelspec": {
   "display_name": "Python 3 (ipykernel)",
   "language": "python",
   "name": "python3"
  },
  "language_info": {
   "codemirror_mode": {
    "name": "ipython",
    "version": 3
   },
   "file_extension": ".py",
   "mimetype": "text/x-python",
   "name": "python",
   "nbconvert_exporter": "python",
   "pygments_lexer": "ipython3",
   "version": "3.11.3"
  }
 },
 "nbformat": 4,
 "nbformat_minor": 5
}
