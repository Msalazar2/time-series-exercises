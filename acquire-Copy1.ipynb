{
 "cells": [
  {
   "cell_type": "code",
   "execution_count": 1,
   "id": "b21c5fbe",
   "metadata": {},
   "outputs": [],
   "source": [
    "import requests\n",
    "import pandas as pd"
   ]
  },
  {
   "cell_type": "code",
   "execution_count": 2,
   "id": "754c3de9",
   "metadata": {},
   "outputs": [],
   "source": [
    "def api_request(url):\n",
    "\n",
    "    response = requests.get(url)\n",
    "\n",
    "    if response.status_code == 200:\n",
    "        \n",
    "        print('Successful!', response)\n",
    "        \n",
    "        print('')\n",
    "        \n",
    "        data_dict = response.json()\n",
    "        \n",
    "        print(type(data_dict))\n",
    "        \n",
    "        return data_dict, response\n",
    "    \n",
    "    else:\n",
    "        \n",
    "        print(\"Failed to retrieve data. Status code:\", response.status_code)"
   ]
  },
  {
   "cell_type": "markdown",
   "id": "24a0efce",
   "metadata": {},
   "source": [
    "## Datasets"
   ]
  },
  {
   "cell_type": "code",
   "execution_count": 3,
   "id": "ce9ab574",
   "metadata": {},
   "outputs": [],
   "source": [
    "url = 'https://apps.bea.gov/api/data?&UserID=87F032F2-CF80-457D-970E-A132407D8B9A&method=GETDATASETLIST'"
   ]
  },
  {
   "cell_type": "code",
   "execution_count": 4,
   "id": "300a8e12",
   "metadata": {
    "scrolled": false
   },
   "outputs": [
    {
     "name": "stdout",
     "output_type": "stream",
     "text": [
      "Successful! <Response [200]>\n",
      "\n",
      "<class 'dict'>\n"
     ]
    },
    {
     "data": {
      "text/plain": [
       "{'BEAAPI': {'Request': {'RequestParam': [{'ParameterName': 'USERID',\n",
       "     'ParameterValue': '87F032F2-CF80-457D-970E-A132407D8B9A'},\n",
       "    {'ParameterName': 'METHOD', 'ParameterValue': 'GETDATASETLIST'},\n",
       "    {'ParameterName': 'RESULTFORMAT', 'ParameterValue': 'JSON'}]},\n",
       "  'Results': {'Dataset': [{'DatasetName': 'NIPA',\n",
       "     'DatasetDescription': 'Standard NIPA tables'},\n",
       "    {'DatasetName': 'NIUnderlyingDetail',\n",
       "     'DatasetDescription': 'Standard NI underlying detail tables'},\n",
       "    {'DatasetName': 'MNE', 'DatasetDescription': 'Multinational Enterprises'},\n",
       "    {'DatasetName': 'FixedAssets',\n",
       "     'DatasetDescription': 'Standard Fixed Assets tables'},\n",
       "    {'DatasetName': 'ITA',\n",
       "     'DatasetDescription': 'International Transactions Accounts'},\n",
       "    {'DatasetName': 'IIP',\n",
       "     'DatasetDescription': 'International Investment Position'},\n",
       "    {'DatasetName': 'InputOutput', 'DatasetDescription': 'Input-Output Data'},\n",
       "    {'DatasetName': 'IntlServTrade',\n",
       "     'DatasetDescription': 'International Services Trade'},\n",
       "    {'DatasetName': 'GDPbyIndustry', 'DatasetDescription': 'GDP by Industry'},\n",
       "    {'DatasetName': 'Regional', 'DatasetDescription': 'Regional data sets'},\n",
       "    {'DatasetName': 'UnderlyingGDPbyIndustry',\n",
       "     'DatasetDescription': 'Underlying GDP by Industry'},\n",
       "    {'DatasetName': 'APIDatasetMetaData',\n",
       "     'DatasetDescription': 'Metadata about other API datasets'}]}}}"
      ]
     },
     "execution_count": 4,
     "metadata": {},
     "output_type": "execute_result"
    }
   ],
   "source": [
    "dataset_list, response = api_request(url)\n",
    "dataset_list"
   ]
  },
  {
   "cell_type": "markdown",
   "id": "c6b6fdde",
   "metadata": {},
   "source": [
    "## Parameters for GDPbyIndustry"
   ]
  },
  {
   "cell_type": "code",
   "execution_count": 5,
   "id": "9d1b9b40",
   "metadata": {},
   "outputs": [],
   "source": [
    "url2 = 'https://apps.bea.gov/api/data?&UserID=87F032F2-CF80-457D-970E-A132407D8B9A&method=getparameterlist&datasetname=GDPbyIndustry'"
   ]
  },
  {
   "cell_type": "code",
   "execution_count": 6,
   "id": "1f4d7921",
   "metadata": {
    "scrolled": false
   },
   "outputs": [
    {
     "name": "stdout",
     "output_type": "stream",
     "text": [
      "Successful! <Response [200]>\n",
      "\n",
      "<class 'dict'>\n"
     ]
    },
    {
     "data": {
      "text/plain": [
       "{'BEAAPI': {'Request': {'RequestParam': [{'ParameterName': 'USERID',\n",
       "     'ParameterValue': '87F032F2-CF80-457D-970E-A132407D8B9A'},\n",
       "    {'ParameterName': 'METHOD', 'ParameterValue': 'GETPARAMETERLIST'},\n",
       "    {'ParameterName': 'DATASETNAME', 'ParameterValue': 'GDPBYINDUSTRY'},\n",
       "    {'ParameterName': 'RESULTFORMAT', 'ParameterValue': 'JSON'}]},\n",
       "  'Results': {'Parameter': [{'ParameterName': 'Frequency',\n",
       "     'ParameterDataType': 'string',\n",
       "     'ParameterDescription': 'A - Annual, Q-Quarterly',\n",
       "     'ParameterIsRequiredFlag': '1',\n",
       "     'ParameterDefaultValue': '',\n",
       "     'MultipleAcceptedFlag': '1',\n",
       "     'AllValue': 'ALL'},\n",
       "    {'ParameterName': 'Industry',\n",
       "     'ParameterDataType': 'string',\n",
       "     'ParameterDescription': 'List of industries to retrieve (ALL for All)',\n",
       "     'ParameterIsRequiredFlag': '1',\n",
       "     'ParameterDefaultValue': '',\n",
       "     'MultipleAcceptedFlag': '1',\n",
       "     'AllValue': 'ALL'},\n",
       "    {'ParameterName': 'TableID',\n",
       "     'ParameterDataType': 'integer',\n",
       "     'ParameterDescription': 'The unique GDP by Industry table identifier (ALL for All)',\n",
       "     'ParameterIsRequiredFlag': '1',\n",
       "     'ParameterDefaultValue': '',\n",
       "     'MultipleAcceptedFlag': '1',\n",
       "     'AllValue': 'ALL'},\n",
       "    {'ParameterName': 'Year',\n",
       "     'ParameterDataType': 'integer',\n",
       "     'ParameterDescription': 'List of year(s) of data to retrieve (ALL for All)',\n",
       "     'ParameterIsRequiredFlag': '1',\n",
       "     'ParameterDefaultValue': '',\n",
       "     'MultipleAcceptedFlag': '1',\n",
       "     'AllValue': 'ALL'}]}}}"
      ]
     },
     "execution_count": 6,
     "metadata": {},
     "output_type": "execute_result"
    }
   ],
   "source": [
    "gdp, response = api_request(url2)\n",
    "gdp"
   ]
  },
  {
   "cell_type": "code",
   "execution_count": 7,
   "id": "e6a60ff3",
   "metadata": {},
   "outputs": [
    {
     "data": {
      "text/plain": [
       "dict_keys(['Request', 'Results'])"
      ]
     },
     "execution_count": 7,
     "metadata": {},
     "output_type": "execute_result"
    }
   ],
   "source": [
    "gdp['BEAAPI'].keys()"
   ]
  },
  {
   "cell_type": "markdown",
   "id": "dcd25c37",
   "metadata": {},
   "source": [
    "## #this is a list of my request information and results of the data parameters. I need to figure out how to get the actual data."
   ]
  },
  {
   "cell_type": "markdown",
   "id": "d9128481",
   "metadata": {},
   "source": [
    "## Parameter values"
   ]
  },
  {
   "cell_type": "markdown",
   "id": "d734161c",
   "metadata": {},
   "source": [
    "## frequency"
   ]
  },
  {
   "cell_type": "code",
   "execution_count": 8,
   "id": "4df23d78",
   "metadata": {},
   "outputs": [],
   "source": [
    "url3 = 'https://apps.bea.gov/api/data?&UserID=87F032F2-CF80-457D-970E-A132407D8B9A&method=GetParameterValues&datasetname=GDPbyIndustry&ParameterName=Frequency'"
   ]
  },
  {
   "cell_type": "code",
   "execution_count": 9,
   "id": "7a943095",
   "metadata": {},
   "outputs": [
    {
     "name": "stdout",
     "output_type": "stream",
     "text": [
      "Successful! <Response [200]>\n",
      "\n",
      "<class 'dict'>\n"
     ]
    },
    {
     "data": {
      "text/plain": [
       "{'BEAAPI': {'Request': {'RequestParam': [{'ParameterName': 'USERID',\n",
       "     'ParameterValue': '87F032F2-CF80-457D-970E-A132407D8B9A'},\n",
       "    {'ParameterName': 'METHOD', 'ParameterValue': 'GETPARAMETERVALUES'},\n",
       "    {'ParameterName': 'DATASETNAME', 'ParameterValue': 'GDPBYINDUSTRY'},\n",
       "    {'ParameterName': 'PARAMETERNAME', 'ParameterValue': 'FREQUENCY'},\n",
       "    {'ParameterName': 'RESULTFORMAT', 'ParameterValue': 'JSON'}]},\n",
       "  'Results': {'ParamValue': [{'Key': 'A', 'Desc': 'Annual'},\n",
       "    {'Key': 'Q', 'Desc': 'Quarterly'}]}}}"
      ]
     },
     "execution_count": 9,
     "metadata": {},
     "output_type": "execute_result"
    }
   ],
   "source": [
    "f, response = api_request(url3)\n",
    "f"
   ]
  },
  {
   "cell_type": "markdown",
   "id": "4146f234",
   "metadata": {},
   "source": [
    "## Industry"
   ]
  },
  {
   "cell_type": "code",
   "execution_count": 10,
   "id": "d76d67d4",
   "metadata": {},
   "outputs": [],
   "source": [
    "url4 = 'https://apps.bea.gov/api/data?&UserID=87F032F2-CF80-457D-970E-A132407D8B9A&method=GetParameterValues&datasetname=GDPbyIndustry&ParameterName=Industry'"
   ]
  },
  {
   "cell_type": "code",
   "execution_count": 11,
   "id": "db46b4e1",
   "metadata": {
    "scrolled": false
   },
   "outputs": [
    {
     "name": "stdout",
     "output_type": "stream",
     "text": [
      "Successful! <Response [200]>\n",
      "\n",
      "<class 'dict'>\n"
     ]
    },
    {
     "data": {
      "text/plain": [
       "{'BEAAPI': {'Request': {'RequestParam': [{'ParameterName': 'USERID',\n",
       "     'ParameterValue': '87F032F2-CF80-457D-970E-A132407D8B9A'},\n",
       "    {'ParameterName': 'METHOD', 'ParameterValue': 'GETPARAMETERVALUES'},\n",
       "    {'ParameterName': 'DATASETNAME', 'ParameterValue': 'GDPBYINDUSTRY'},\n",
       "    {'ParameterName': 'PARAMETERNAME', 'ParameterValue': 'INDUSTRY'},\n",
       "    {'ParameterName': 'RESULTFORMAT', 'ParameterValue': 'JSON'}]},\n",
       "  'Results': {'ParamValue': [{'Key': '11',\n",
       "     'Desc': 'Agriculture, forestry, fishing, and hunting (A,Q)'},\n",
       "    {'Key': '111CA', 'Desc': 'Farms (A,Q)'},\n",
       "    {'Key': '113FF',\n",
       "     'Desc': 'Forestry, fishing, and related activities (A,Q)'},\n",
       "    {'Key': '21', 'Desc': 'Mining (A,Q)'},\n",
       "    {'Key': '211', 'Desc': 'Oil and gas extraction (A,Q)'},\n",
       "    {'Key': '212', 'Desc': 'Mining, except oil and gas (A,Q)'},\n",
       "    {'Key': '213', 'Desc': 'Support activities for mining (A,Q)'},\n",
       "    {'Key': '22', 'Desc': 'Utilities (A,Q)'},\n",
       "    {'Key': '23', 'Desc': 'Construction (A,Q)'},\n",
       "    {'Key': '311FT', 'Desc': 'Food and beverage and tobacco products (A,Q)'},\n",
       "    {'Key': '313TT', 'Desc': 'Textile mills and textile product mills (A,Q)'},\n",
       "    {'Key': '315AL', 'Desc': 'Apparel and leather and allied products (A,Q)'},\n",
       "    {'Key': '31G', 'Desc': 'Manufacturing (A,Q)'},\n",
       "    {'Key': '31ND', 'Desc': 'Nondurable goods (A,Q)'},\n",
       "    {'Key': '321', 'Desc': 'Wood products (A,Q)'},\n",
       "    {'Key': '322', 'Desc': 'Paper products (A,Q)'},\n",
       "    {'Key': '323', 'Desc': 'Printing and related support activities (A,Q)'},\n",
       "    {'Key': '324', 'Desc': 'Petroleum and coal products (A,Q)'},\n",
       "    {'Key': '325', 'Desc': 'Chemical products (A,Q)'},\n",
       "    {'Key': '326', 'Desc': 'Plastics and rubber products (A,Q)'},\n",
       "    {'Key': '327', 'Desc': 'Nonmetallic mineral products (A,Q)'},\n",
       "    {'Key': '331', 'Desc': 'Primary metals (A,Q)'},\n",
       "    {'Key': '332', 'Desc': 'Fabricated metal products (A,Q)'},\n",
       "    {'Key': '333', 'Desc': 'Machinery (A,Q)'},\n",
       "    {'Key': '334', 'Desc': 'Computer and electronic products (A,Q)'},\n",
       "    {'Key': '335',\n",
       "     'Desc': 'Electrical equipment, appliances, and components (A,Q)'},\n",
       "    {'Key': '3361MV',\n",
       "     'Desc': 'Motor vehicles, bodies and trailers, and parts (A,Q)'},\n",
       "    {'Key': '3364OT', 'Desc': 'Other transportation equipment (A,Q)'},\n",
       "    {'Key': '337', 'Desc': 'Furniture and related products (A,Q)'},\n",
       "    {'Key': '339', 'Desc': 'Miscellaneous manufacturing (A,Q)'},\n",
       "    {'Key': '33DG', 'Desc': 'Durable goods (A,Q)'},\n",
       "    {'Key': '42', 'Desc': 'Wholesale trade (A,Q)'},\n",
       "    {'Key': '441', 'Desc': 'Motor vehicle and parts dealers (A,Q)'},\n",
       "    {'Key': '445', 'Desc': 'Food and beverage stores (A,Q)'},\n",
       "    {'Key': '44RT', 'Desc': 'Retail trade (A,Q)'},\n",
       "    {'Key': '452', 'Desc': 'General merchandise stores (A,Q)'},\n",
       "    {'Key': '481', 'Desc': 'Air transportation (A,Q)'},\n",
       "    {'Key': '482', 'Desc': 'Rail transportation (A,Q)'},\n",
       "    {'Key': '483', 'Desc': 'Water transportation (A,Q)'},\n",
       "    {'Key': '484', 'Desc': 'Truck transportation (A,Q)'},\n",
       "    {'Key': '485',\n",
       "     'Desc': 'Transit and ground passenger transportation (A,Q)'},\n",
       "    {'Key': '486', 'Desc': 'Pipeline transportation (A,Q)'},\n",
       "    {'Key': '487OS',\n",
       "     'Desc': 'Other transportation and support activities (A,Q)'},\n",
       "    {'Key': '48TW', 'Desc': 'Transportation and warehousing (A,Q)'},\n",
       "    {'Key': '493', 'Desc': 'Warehousing and storage (A,Q)'},\n",
       "    {'Key': '4A0', 'Desc': 'Other retail (A,Q)'},\n",
       "    {'Key': '51', 'Desc': 'Information (A,Q)'},\n",
       "    {'Key': '511',\n",
       "     'Desc': 'Publishing industries, except internet (includes software) (A,Q)'},\n",
       "    {'Key': '512',\n",
       "     'Desc': 'Motion picture and sound recording industries (A,Q)'},\n",
       "    {'Key': '513', 'Desc': 'Broadcasting and telecommunications (A,Q)'},\n",
       "    {'Key': '514',\n",
       "     'Desc': 'Data processing, internet publishing, and other information services (A,Q)'},\n",
       "    {'Key': '52', 'Desc': 'Finance and insurance (A,Q)'},\n",
       "    {'Key': '521CI',\n",
       "     'Desc': 'Federal Reserve banks, credit intermediation, and related activities (A,Q)'},\n",
       "    {'Key': '523',\n",
       "     'Desc': 'Securities, commodity contracts, and investments (A,Q)'},\n",
       "    {'Key': '524', 'Desc': 'Insurance carriers and related activities (A,Q)'},\n",
       "    {'Key': '525',\n",
       "     'Desc': 'Funds, trusts, and other financial vehicles (A,Q)'},\n",
       "    {'Key': '53', 'Desc': 'Real estate and rental and leasing (A,Q)'},\n",
       "    {'Key': '531', 'Desc': 'Real estate (A,Q)'},\n",
       "    {'Key': '532RL',\n",
       "     'Desc': 'Rental and leasing services and lessors of intangible assets (A,Q)'},\n",
       "    {'Key': '54',\n",
       "     'Desc': 'Professional, scientific, and technical services (A,Q)'},\n",
       "    {'Key': '5411', 'Desc': 'Legal services (A,Q)'},\n",
       "    {'Key': '5412OP',\n",
       "     'Desc': 'Miscellaneous professional, scientific, and technical services (A,Q)'},\n",
       "    {'Key': '5415',\n",
       "     'Desc': 'Computer systems design and related services (A,Q)'},\n",
       "    {'Key': '55', 'Desc': 'Management of companies and enterprises (A,Q)'},\n",
       "    {'Key': '56',\n",
       "     'Desc': 'Administrative and waste management services (A,Q)'},\n",
       "    {'Key': '561', 'Desc': 'Administrative and support services (A,Q)'},\n",
       "    {'Key': '562', 'Desc': 'Waste management and remediation services (A,Q)'},\n",
       "    {'Key': '6',\n",
       "     'Desc': 'Educational services, health care, and social assistance (A,Q)'},\n",
       "    {'Key': '61', 'Desc': 'Educational services (A,Q)'},\n",
       "    {'Key': '62', 'Desc': 'Health care and social assistance (A,Q)'},\n",
       "    {'Key': '621', 'Desc': 'Ambulatory health care services (A,Q)'},\n",
       "    {'Key': '622', 'Desc': 'Hospitals (A,Q)'},\n",
       "    {'Key': '622HO',\n",
       "     'Desc': 'Hospitals and nursing and residential care facilities (A,Q)'},\n",
       "    {'Key': '623', 'Desc': 'Nursing and residential care facilities (A,Q)'},\n",
       "    {'Key': '624', 'Desc': 'Social assistance (A,Q)'},\n",
       "    {'Key': '7',\n",
       "     'Desc': 'Arts, entertainment, recreation, accommodation, and food services (A,Q)'},\n",
       "    {'Key': '71', 'Desc': 'Arts, entertainment, and recreation (A,Q)'},\n",
       "    {'Key': '711AS',\n",
       "     'Desc': 'Performing arts, spectator sports, museums, and related activities (A,Q)'},\n",
       "    {'Key': '713',\n",
       "     'Desc': 'Amusements, gambling, and recreation industries (A,Q)'},\n",
       "    {'Key': '72', 'Desc': 'Accommodation and food services (A,Q)'},\n",
       "    {'Key': '721', 'Desc': 'Accommodation (A,Q)'},\n",
       "    {'Key': '722', 'Desc': 'Food services and drinking places (A,Q)'},\n",
       "    {'Key': '81', 'Desc': 'Other services, except government (A,Q)'},\n",
       "    {'Key': 'FIRE',\n",
       "     'Desc': 'Finance, insurance, real estate, rental, and leasing (A,Q)'},\n",
       "    {'Key': 'G', 'Desc': 'Government (A,Q)'},\n",
       "    {'Key': 'GDP', 'Desc': 'Gross domestic product (A,Q)'},\n",
       "    {'Key': 'GF', 'Desc': 'Federal (A,Q)'},\n",
       "    {'Key': 'GFE', 'Desc': 'Government enterprises (A,Q)'},\n",
       "    {'Key': 'GFG', 'Desc': 'General government (A,Q)'},\n",
       "    {'Key': 'GFGD', 'Desc': 'National defense (A,Q)'},\n",
       "    {'Key': 'GFGN', 'Desc': 'Nondefense (A,Q)'},\n",
       "    {'Key': 'GSL', 'Desc': 'State and local (A,Q)'},\n",
       "    {'Key': 'GSLE', 'Desc': 'Government enterprises (A,Q)'},\n",
       "    {'Key': 'GSLG', 'Desc': 'General government (A,Q)'},\n",
       "    {'Key': 'HS', 'Desc': 'Housing (A,Q)'},\n",
       "    {'Key': 'ICT',\n",
       "     'Desc': 'Information-communications-technology-producing industries (A)'},\n",
       "    {'Key': 'ICT',\n",
       "     'Desc': 'Information-communications-technology-producing industries<sup> 4</sup> (A)'},\n",
       "    {'Key': 'II', 'Desc': 'All industries (A,Q)'},\n",
       "    {'Key': 'NABI', 'Desc': 'Not allocated by industry (A,Q)'},\n",
       "    {'Key': 'ORE', 'Desc': 'Other real estate (A,Q)'},\n",
       "    {'Key': 'PGOOD', 'Desc': 'Private goods-producing industries (A,Q)'},\n",
       "    {'Key': 'PROF', 'Desc': 'Professional and business services (A,Q)'},\n",
       "    {'Key': 'PSERV', 'Desc': 'Private services-producing industries (A,Q)'},\n",
       "    {'Key': 'PVT', 'Desc': 'Private industries (A,Q)'}]}}}"
      ]
     },
     "execution_count": 11,
     "metadata": {},
     "output_type": "execute_result"
    }
   ],
   "source": [
    "i, response = api_request(url4)\n",
    "i"
   ]
  },
  {
   "cell_type": "markdown",
   "id": "82c336f4",
   "metadata": {},
   "source": [
    "## TableId"
   ]
  },
  {
   "cell_type": "code",
   "execution_count": 12,
   "id": "0c9554df",
   "metadata": {},
   "outputs": [],
   "source": [
    "url5 = 'https://apps.bea.gov/api/data?&UserID=87F032F2-CF80-457D-970E-A132407D8B9A&method=GetParameterValues&datasetname=GDPbyIndustry&ParameterName=TableID'"
   ]
  },
  {
   "cell_type": "code",
   "execution_count": 13,
   "id": "53326c14",
   "metadata": {},
   "outputs": [
    {
     "name": "stdout",
     "output_type": "stream",
     "text": [
      "Successful! <Response [200]>\n",
      "\n",
      "<class 'dict'>\n"
     ]
    },
    {
     "data": {
      "text/plain": [
       "{'BEAAPI': {'Request': {'RequestParam': [{'ParameterName': 'USERID',\n",
       "     'ParameterValue': '87F032F2-CF80-457D-970E-A132407D8B9A'},\n",
       "    {'ParameterName': 'METHOD', 'ParameterValue': 'GETPARAMETERVALUES'},\n",
       "    {'ParameterName': 'DATASETNAME', 'ParameterValue': 'GDPBYINDUSTRY'},\n",
       "    {'ParameterName': 'PARAMETERNAME', 'ParameterValue': 'TABLEID'},\n",
       "    {'ParameterName': 'RESULTFORMAT', 'ParameterValue': 'JSON'}]},\n",
       "  'Results': {'ParamValue': [{'Key': '1',\n",
       "     'Desc': 'Value Added by Industry (A)'},\n",
       "    {'Key': '5',\n",
       "     'Desc': 'Value added by Industry as a Percentage of Gross Domestic Product (A)'},\n",
       "    {'Key': '6', 'Desc': 'Components of Value Added by Industry (A)'},\n",
       "    {'Key': '7',\n",
       "     'Desc': 'Components of Value Added by Industry as a Percentage of Value Added (A)'},\n",
       "    {'Key': '8',\n",
       "     'Desc': 'Chain-Type Quantity Indexes for Value Added by Industry (A)'},\n",
       "    {'Key': '9',\n",
       "     'Desc': 'Percent Changes in Chain-Type Quantity Indexes for Value Added by Industry (A)'},\n",
       "    {'Key': '10', 'Desc': 'Real Value Added by Industry (A)'},\n",
       "    {'Key': '11',\n",
       "     'Desc': 'Chain-Type Price Indexes for Value Added by Industry (A)'},\n",
       "    {'Key': '12',\n",
       "     'Desc': 'Percent Changes in Chain-Type Price Indexes for Value Added by Industry (A)'},\n",
       "    {'Key': '13',\n",
       "     'Desc': 'Contributions to Percent Change in Real Gross Domestic Product by Industry (A)'},\n",
       "    {'Key': '14',\n",
       "     'Desc': 'Contributions to Percent Change in the Chain-Type Price Index for Gross Domestic Product by Industry (A)'},\n",
       "    {'Key': '15', 'Desc': 'Gross Output by Industry (A)'},\n",
       "    {'Key': '16',\n",
       "     'Desc': 'Chain-Type Quantity Indexes for Gross Output by Industry (A)'},\n",
       "    {'Key': '17',\n",
       "     'Desc': 'Percent Changes in Chain-Type Quantity Indexes for Gross Output by Industry (A)'},\n",
       "    {'Key': '18',\n",
       "     'Desc': 'Chain-Type Price Indexes for Gross Output by Industry (A)'},\n",
       "    {'Key': '19',\n",
       "     'Desc': 'Percent Changes in Chain-Type Price Indexes for Gross Output by Industry (A)'},\n",
       "    {'Key': '20', 'Desc': 'Intermediate Inputs by Industry (A)'},\n",
       "    {'Key': '21',\n",
       "     'Desc': 'Chain-Type Quantity Indexes for Intermediate Inputs by Industry (A)'},\n",
       "    {'Key': '22',\n",
       "     'Desc': 'Percent Changes in Chain-Type Quantity Indexes for Intermediate Inputs by Industry (A)'},\n",
       "    {'Key': '23',\n",
       "     'Desc': 'Chain-Type Price Indexes for Intermediate Inputs by Industry (A)'},\n",
       "    {'Key': '24',\n",
       "     'Desc': 'Percent Changes in Chain-Type Price Indexes for Intermediate Inputs by Industry (A)'},\n",
       "    {'Key': '208', 'Desc': 'Real Gross Output by Industry (A)'},\n",
       "    {'Key': '209', 'Desc': 'Real Intermediate Inputs by Industry (A)'}]}}}"
      ]
     },
     "execution_count": 13,
     "metadata": {},
     "output_type": "execute_result"
    }
   ],
   "source": [
    "t, response = api_request(url5)\n",
    "t"
   ]
  },
  {
   "cell_type": "code",
   "execution_count": 14,
   "id": "15f5e4c9",
   "metadata": {},
   "outputs": [],
   "source": [
    "url5 = 'https://apps.bea.gov/api/data?&UserID=87F032F2-CF80-457D-970E-A132407D8B9A&method=GetParameterValues&datasetname=GDPbyIndustry&ParameterName=Year'"
   ]
  },
  {
   "cell_type": "code",
   "execution_count": 15,
   "id": "8473bdce",
   "metadata": {},
   "outputs": [
    {
     "name": "stdout",
     "output_type": "stream",
     "text": [
      "Successful! <Response [200]>\n",
      "\n",
      "<class 'dict'>\n"
     ]
    },
    {
     "data": {
      "text/plain": [
       "{'BEAAPI': {'Request': {'RequestParam': [{'ParameterName': 'USERID',\n",
       "     'ParameterValue': '87F032F2-CF80-457D-970E-A132407D8B9A'},\n",
       "    {'ParameterName': 'METHOD', 'ParameterValue': 'GETPARAMETERVALUES'},\n",
       "    {'ParameterName': 'DATASETNAME', 'ParameterValue': 'GDPBYINDUSTRY'},\n",
       "    {'ParameterName': 'PARAMETERNAME', 'ParameterValue': 'YEAR'},\n",
       "    {'ParameterName': 'RESULTFORMAT', 'ParameterValue': 'JSON'}]},\n",
       "  'Results': {'ParamValue': [{'Key': '2017', 'Desc': '2017'},\n",
       "    {'Key': '2018', 'Desc': '2018'},\n",
       "    {'Key': '2019', 'Desc': '2019'},\n",
       "    {'Key': '2020', 'Desc': '2020'},\n",
       "    {'Key': '2021', 'Desc': '2021'},\n",
       "    {'Key': '2022', 'Desc': '2022'}]}}}"
      ]
     },
     "execution_count": 15,
     "metadata": {},
     "output_type": "execute_result"
    }
   ],
   "source": [
    "y, response = api_request(url5)\n",
    "y"
   ]
  },
  {
   "cell_type": "code",
   "execution_count": 32,
   "id": "b87e7389",
   "metadata": {},
   "outputs": [],
   "source": [
    "url6 = 'https://apps.bea.gov/api/data?&UserID=87F032F2-CF80-457D-970E-A132407D8B9A&method=GetParameterValuesFiltered&datasetname=GDPbyIndustry&TableID=ALL&TargetParameter=LineCode'"
   ]
  },
  {
   "cell_type": "code",
   "execution_count": 33,
   "id": "f89cc8fe",
   "metadata": {},
   "outputs": [
    {
     "name": "stdout",
     "output_type": "stream",
     "text": [
      "Successful! <Response [200]>\n",
      "\n",
      "<class 'dict'>\n"
     ]
    },
    {
     "data": {
      "text/plain": [
       "{'BEAAPI': {'Request': {'RequestParam': [{'ParameterName': 'USERID',\n",
       "     'ParameterValue': '87F032F2-CF80-457D-970E-A132407D8B9A'},\n",
       "    {'ParameterName': 'METHOD',\n",
       "     'ParameterValue': 'GETPARAMETERVALUESFILTERED'},\n",
       "    {'ParameterName': 'DATASETNAME', 'ParameterValue': 'GDPBYINDUSTRY'},\n",
       "    {'ParameterName': 'TABLEID', 'ParameterValue': 'ALL'},\n",
       "    {'ParameterName': 'TARGETPARAMETER', 'ParameterValue': 'LINECODE'},\n",
       "    {'ParameterName': 'RESULTFORMAT', 'ParameterValue': 'JSON'}]},\n",
       "  'Results': {'Error': {'APIErrorCode': '34',\n",
       "    'APIErrorDescription': 'The GetParameterValuesFiltered method has not been implemented on this dataset (coming soon).'}}}}"
      ]
     },
     "execution_count": 33,
     "metadata": {},
     "output_type": "execute_result"
    }
   ],
   "source": [
    "f, response = api_request(url6)\n",
    "f"
   ]
  },
  {
   "cell_type": "markdown",
   "id": "ca863b4b",
   "metadata": {},
   "source": [
    "## Get Data"
   ]
  },
  {
   "cell_type": "code",
   "execution_count": null,
   "id": "91acaa7c",
   "metadata": {},
   "outputs": [],
   "source": []
  },
  {
   "cell_type": "code",
   "execution_count": 34,
   "id": "0f1e04e6",
   "metadata": {},
   "outputs": [],
   "source": [
    "url7 = 'https://apps.bea.gov/api/data?&UserID=87F032F2-CF80-457D-970E-A132407D8B9A&method=GetData&datasetname=GDPbyIndustry&TableName=Industry&Frequency=A&Industry=GDP&TableID=ALL&Year=2021&2022'"
   ]
  },
  {
   "cell_type": "code",
   "execution_count": 35,
   "id": "5a5ef426",
   "metadata": {
    "scrolled": false
   },
   "outputs": [
    {
     "name": "stdout",
     "output_type": "stream",
     "text": [
      "Successful! <Response [200]>\n",
      "\n",
      "<class 'dict'>\n"
     ]
    },
    {
     "data": {
      "text/plain": [
       "{'BEAAPI': {'Request': {'RequestParam': [{'ParameterName': 'USERID',\n",
       "     'ParameterValue': '87F032F2-CF80-457D-970E-A132407D8B9A'},\n",
       "    {'ParameterName': 'METHOD', 'ParameterValue': 'GETDATA'},\n",
       "    {'ParameterName': 'DATASETNAME', 'ParameterValue': 'GDPBYINDUSTRY'},\n",
       "    {'ParameterName': 'TABLENAME', 'ParameterValue': 'INDUSTRY'},\n",
       "    {'ParameterName': 'FREQUENCY', 'ParameterValue': 'A'},\n",
       "    {'ParameterName': 'INDUSTRY', 'ParameterValue': 'GDP'},\n",
       "    {'ParameterName': 'TABLEID', 'ParameterValue': 'ALL'},\n",
       "    {'ParameterName': 'YEAR', 'ParameterValue': '2021'},\n",
       "    {'ParameterName': '2022', 'ParameterValue': ''},\n",
       "    {'ParameterName': 'RESULTFORMAT', 'ParameterValue': 'JSON'}]},\n",
       "  'Results': [{'Statistic': 'GDP by Industry Table',\n",
       "    'UTCProductionTime': '2023-10-02T15:39:39.777',\n",
       "    'Dimensions': [{'Ordinal': '1',\n",
       "      'Name': 'TableID',\n",
       "      'DataType': 'numeric',\n",
       "      'IsValue': '0'},\n",
       "     {'Ordinal': '2',\n",
       "      'Name': 'Frequency',\n",
       "      'DataType': 'string',\n",
       "      'IsValue': '0'},\n",
       "     {'Ordinal': '3', 'Name': 'Year', 'DataType': 'string', 'IsValue': '0'},\n",
       "     {'Ordinal': '4', 'Name': 'Quarter', 'DataType': 'string', 'IsValue': '0'},\n",
       "     {'Ordinal': '5',\n",
       "      'Name': 'Industry',\n",
       "      'DataType': 'string',\n",
       "      'IsValue': '0'},\n",
       "     {'Ordinal': '6',\n",
       "      'Name': 'IndustryDescription',\n",
       "      'DataType': 'string',\n",
       "      'IsValue': '0'},\n",
       "     {'Ordinal': '7',\n",
       "      'Name': 'DataValue',\n",
       "      'DataType': 'numeric',\n",
       "      'IsValue': '1'}],\n",
       "    'Data': [{'TableID': '1',\n",
       "      'Frequency': 'A',\n",
       "      'Year': '2021',\n",
       "      'Quarter': '2021',\n",
       "      'Industry': 'GDP',\n",
       "      'IndustrYDescription': 'Gross domestic product',\n",
       "      'DataValue': '23594.0',\n",
       "      'NoteRef': '1'},\n",
       "     {'TableID': '5',\n",
       "      'Frequency': 'A',\n",
       "      'Year': '2021',\n",
       "      'Quarter': '2021',\n",
       "      'Industry': 'GDP',\n",
       "      'IndustrYDescription': 'Gross domestic product',\n",
       "      'DataValue': '100.0',\n",
       "      'NoteRef': '5'},\n",
       "     {'TableID': '6',\n",
       "      'Frequency': 'A',\n",
       "      'Year': '2021',\n",
       "      'Quarter': '2021',\n",
       "      'Industry': 'GDP',\n",
       "      'IndustrYDescription': 'Gross domestic product',\n",
       "      'DataValue': '23594.0',\n",
       "      'NoteRef': '6'},\n",
       "     {'TableID': '6',\n",
       "      'Frequency': 'A',\n",
       "      'Year': '2021',\n",
       "      'Quarter': '2021',\n",
       "      'Industry': 'GDP',\n",
       "      'IndustrYDescription': 'Compensation of employees',\n",
       "      'DataValue': '12556.6',\n",
       "      'NoteRef': '6'},\n",
       "     {'TableID': '6',\n",
       "      'Frequency': 'A',\n",
       "      'Year': '2021',\n",
       "      'Quarter': '2021',\n",
       "      'Industry': 'GDP',\n",
       "      'IndustrYDescription': 'Taxes on production and imports less subsidies',\n",
       "      'DataValue': '1189.2',\n",
       "      'NoteRef': '6'},\n",
       "     {'TableID': '6',\n",
       "      'Frequency': 'A',\n",
       "      'Year': '2021',\n",
       "      'Quarter': '2021',\n",
       "      'Industry': 'GDP',\n",
       "      'IndustrYDescription': 'Gross operating surplus',\n",
       "      'DataValue': '9848.2',\n",
       "      'NoteRef': '6'},\n",
       "     {'TableID': '7',\n",
       "      'Frequency': 'A',\n",
       "      'Year': '2021',\n",
       "      'Quarter': '2021',\n",
       "      'Industry': 'GDP',\n",
       "      'IndustrYDescription': 'Gross domestic product',\n",
       "      'DataValue': '100.0',\n",
       "      'NoteRef': '7'},\n",
       "     {'TableID': '7',\n",
       "      'Frequency': 'A',\n",
       "      'Year': '2021',\n",
       "      'Quarter': '2021',\n",
       "      'Industry': 'GDP',\n",
       "      'IndustrYDescription': 'Compensation of employees',\n",
       "      'DataValue': '53.2',\n",
       "      'NoteRef': '7'},\n",
       "     {'TableID': '7',\n",
       "      'Frequency': 'A',\n",
       "      'Year': '2021',\n",
       "      'Quarter': '2021',\n",
       "      'Industry': 'GDP',\n",
       "      'IndustrYDescription': 'Taxes on production and imports less subsidies',\n",
       "      'DataValue': '5.0',\n",
       "      'NoteRef': '7'},\n",
       "     {'TableID': '7',\n",
       "      'Frequency': 'A',\n",
       "      'Year': '2021',\n",
       "      'Quarter': '2021',\n",
       "      'Industry': 'GDP',\n",
       "      'IndustrYDescription': 'Gross operating surplus',\n",
       "      'DataValue': '41.7',\n",
       "      'NoteRef': '7'},\n",
       "     {'TableID': '8',\n",
       "      'Frequency': 'A',\n",
       "      'Year': '2021',\n",
       "      'Quarter': '2021',\n",
       "      'Industry': 'GDP',\n",
       "      'IndustrYDescription': 'Gross domestic product',\n",
       "      'DataValue': '109.156',\n",
       "      'NoteRef': '8'},\n",
       "     {'TableID': '9',\n",
       "      'Frequency': 'A',\n",
       "      'Year': '2021',\n",
       "      'Quarter': '2021',\n",
       "      'Industry': 'GDP',\n",
       "      'IndustrYDescription': 'Gross domestic product',\n",
       "      'DataValue': '5.8',\n",
       "      'NoteRef': '9'},\n",
       "     {'TableID': '10',\n",
       "      'Frequency': 'A',\n",
       "      'Year': '2021',\n",
       "      'Quarter': '2021',\n",
       "      'Industry': 'GDP',\n",
       "      'IndustrYDescription': 'Gross domestic product',\n",
       "      'DataValue': '21407.7',\n",
       "      'NoteRef': '10'},\n",
       "     {'TableID': '11',\n",
       "      'Frequency': 'A',\n",
       "      'Year': '2021',\n",
       "      'Quarter': '2021',\n",
       "      'Industry': 'GDP',\n",
       "      'IndustrYDescription': 'Gross domestic product',\n",
       "      'DataValue': '110.220',\n",
       "      'NoteRef': '11'},\n",
       "     {'TableID': '12',\n",
       "      'Frequency': 'A',\n",
       "      'Year': '2021',\n",
       "      'Quarter': '2021',\n",
       "      'Industry': 'GDP',\n",
       "      'IndustrYDescription': 'Gross domestic product',\n",
       "      'DataValue': '4.6',\n",
       "      'NoteRef': '12'},\n",
       "     {'TableID': '13',\n",
       "      'Frequency': 'A',\n",
       "      'Year': '2021',\n",
       "      'Quarter': '2021',\n",
       "      'Industry': 'GDP',\n",
       "      'IndustrYDescription': 'Gross domestic product',\n",
       "      'DataValue': '5.8',\n",
       "      'NoteRef': '13'},\n",
       "     {'TableID': '14',\n",
       "      'Frequency': 'A',\n",
       "      'Year': '2021',\n",
       "      'Quarter': '2021',\n",
       "      'Industry': 'GDP',\n",
       "      'IndustrYDescription': 'Gross domestic product',\n",
       "      'DataValue': '4.6',\n",
       "      'NoteRef': '14'}],\n",
       "    'Notes': [{'NoteRef': '1.1.A',\n",
       "      'NoteText': '1. Consists of agriculture, forestry, fishing, and hunting; mining; construction; and manufacturing.'},\n",
       "     {'NoteRef': '1.2.A',\n",
       "      'NoteText': '2. Consists of utilities; wholesale trade; retail trade; transportation and warehousing; information; finance, insurance, real estate, rental, and leasing; professional and business services; educational services, health care, and social assistance; arts, entertainment, recreation, accommodation, and food services; and other services, except government.'},\n",
       "     {'NoteRef': '1.3.A',\n",
       "      'NoteText': '3. Consists of computer and electronic product manufacturing (excluding navigational, measuring, electromedical, and control instruments manufacturing); software publishers; broadcasting and telecommunications; data processing, hosting and related services; internet publishing and broadcasting and web search portals; and computer systems design and related services.'},\n",
       "     {'NoteRef': '1.0.A',\n",
       "      'NoteText': 'Note. Detail may not add to total due to rounding.'},\n",
       "     {'NoteRef': '1',\n",
       "      'NoteText': 'Value Added by Industry [Billions of dollars]'},\n",
       "     {'NoteRef': '10.1.A',\n",
       "      'NoteText': '1. Chained (2017) dollar series are calculated as the product of the chain-type quantity index and the 2017 current-dollar value of the corresponding series, divided by 100. Because the formula for the chain-type quantity indexes uses weights of more than one period, the corresponding chained-dollar estimates are usually not additive. The value of the Not allocated by industry line reflects the difference between the first line and the sum of the most detailed lines, as well as the differences in source data used to estimate GDP by industry and the expenditures measure of real GDP.'},\n",
       "     {'NoteRef': '10.2.A',\n",
       "      'NoteText': '2. Consists of agriculture, forestry, fishing, and hunting; mining; construction; and manufacturing.'},\n",
       "     {'NoteRef': '10.3.A',\n",
       "      'NoteText': '3. Consists of utilities; wholesale trade; retail trade; transportation and warehousing; information; finance, insurance, real estate, rental, and leasing; professional and business services; educational services, health care, and social assistance; arts, entertainment, recreation, accommodation, and food services; and other services, except government.'},\n",
       "     {'NoteRef': '10.4.A',\n",
       "      'NoteText': '4. Consists of computer and electronic product manufacturing (excluding navigational, measuring, electromedical, and control instruments manufacturing); software publishers; broadcasting and telecommunications; data processing, hosting and related services; internet publishing and broadcasting and web search portals; and computer systems design and related services.'},\n",
       "     {'NoteRef': '10',\n",
       "      'NoteText': 'Real Value Added by Industry [Billions of 2017 chain dollars]'},\n",
       "     {'NoteRef': '11.1.A',\n",
       "      'NoteText': '1. Consists of agriculture, forestry, fishing, and hunting; mining; construction; and manufacturing.'},\n",
       "     {'NoteRef': '11.2.A',\n",
       "      'NoteText': '2. Consists of utilities; wholesale trade; retail trade; transportation and warehousing; information; finance, insurance, real estate, rental, and leasing; professional and business services; educational services, health care, and social assistance; arts, entertainment, recreation, accommodation, and food services; and other services, except government.'},\n",
       "     {'NoteRef': '11.3.A',\n",
       "      'NoteText': '3. Consists of computer and electronic product manufacturing (excluding navigational, measuring, electromedical, and control instruments manufacturing); software publishers; broadcasting and telecommunications; data processing, hosting and related services; internet publishing and broadcasting and web search portals; and computer systems design and related services.'},\n",
       "     {'NoteRef': '11',\n",
       "      'NoteText': 'Chain-Type Price Indexes for Value Added by Industry [2017=100]'},\n",
       "     {'NoteRef': '12.1.A',\n",
       "      'NoteText': '1. Consists of agriculture, forestry, fishing, and hunting; mining; construction; and manufacturing.'},\n",
       "     {'NoteRef': '12.2.A',\n",
       "      'NoteText': '2. Consists of utilities; wholesale trade; retail trade; transportation and warehousing; information; finance, insurance, real estate, rental, and leasing; professional and business services; educational services, health care, and social assistance; arts, entertainment, recreation, accommodation, and food services; and other services, except government.'},\n",
       "     {'NoteRef': '12.3.A',\n",
       "      'NoteText': '3. Consists of computer and electronic product manufacturing (excluding navigational, measuring, electromedical, and control instruments manufacturing); software publishers; broadcasting and telecommunications; data processing, hosting and related services; internet publishing and broadcasting and web search portals; and computer systems design and related services.'},\n",
       "     {'NoteRef': '12',\n",
       "      'NoteText': 'Percent Changes in Chain-Type Price Indexes for Value Added by Industry [Percent change]'},\n",
       "     {'NoteRef': '13.1.A',\n",
       "      'NoteText': '1. Consists of agriculture, forestry, fishing, and hunting; mining; construction; and manufacturing.'},\n",
       "     {'NoteRef': '13.2.A',\n",
       "      'NoteText': '2. Consists of utilities; wholesale trade; retail trade; transportation and warehousing; information; finance, insurance, real estate, rental, and leasing; professional and business services; educational services, health care, and social assistance; arts, entertainment, recreation, accommodation, and food services; and other services, except government.'},\n",
       "     {'NoteRef': '13.3.A',\n",
       "      'NoteText': '3. Consists of computer and electronic product manufacturing (excluding navigational, measuring, electromedical, and control instruments manufacturing); software publishers; broadcasting and telecommunications; data processing, hosting and related services; internet publishing and broadcasting and web search portals; and computer systems design and related services.'},\n",
       "     {'NoteRef': '13.0.A',\n",
       "      'NoteText': 'Note. Percentage-point contributions do not sum to the percent change in real gross domestic product because the industry details are calculated using source data and methodologies that differ from those used to calculate growth in the top-line, expenditure-based measure of real GDP.'},\n",
       "     {'NoteRef': '13',\n",
       "      'NoteText': 'Contributions to Percent Change in Real Gross Domestic Product by Industry [Percent and percentage points]'},\n",
       "     {'NoteRef': '14.1.A',\n",
       "      'NoteText': '1. Consists of agriculture, forestry, fishing, and hunting; mining; construction; and manufacturing.'},\n",
       "     {'NoteRef': '14.2.A',\n",
       "      'NoteText': '2. Consists of utilities; wholesale trade; retail trade; transportation and warehousing; information; finance, insurance, real estate, rental, and leasing; professional and business services; educational services, health care, and social assistance; arts, entertainment, recreation, accommodation, and food services; and other services, except government.'},\n",
       "     {'NoteRef': '14.3.A',\n",
       "      'NoteText': '3. Consists of computer and electronic product manufacturing (excluding navigational, measuring, electromedical, and control instruments manufacturing); software publishers; broadcasting and telecommunications; data processing, hosting and related services; internet publishing and broadcasting and web search portals; and computer systems design and related services.'},\n",
       "     {'NoteRef': '14.0.A',\n",
       "      'NoteText': 'Note. Percentage-point contributions do not sum to the percent change in real gross domestic product because the industry details are calculated using source data and methodologies that differ from those used to calculate growth in the top-line, expenditure-based measure of real GDP.'},\n",
       "     {'NoteRef': '14',\n",
       "      'NoteText': 'Contributions to Percent Change in the Chain-Type Price Index for Gross Domestic Product by Industry [Percent and percentage points]'},\n",
       "     {'NoteRef': '15.1.A',\n",
       "      'NoteText': '1. Consists of agriculture, forestry, fishing, and hunting; mining; construction; and manufacturing.'},\n",
       "     {'NoteRef': '15.2.A',\n",
       "      'NoteText': '2. Consists of utilities; wholesale trade; retail trade; transportation and warehousing; information; finance, insurance, real estate, rental, and leasing; professional and business services; educational services, health care, and social assistance; arts, entertainment, recreation, accommodation, and food services; and other services, except government.'},\n",
       "     {'NoteRef': '15.3.A',\n",
       "      'NoteText': '3. Consists of computer and electronic product manufacturing (excluding navigational, measuring, electromedical, and control instruments manufacturing); software publishers; broadcasting and telecommunications; data processing, hosting and related services; internet publishing and broadcasting and web search portals; and computer systems design and related services.'},\n",
       "     {'NoteRef': '15.0.A',\n",
       "      'NoteText': 'Note. Detail may not add to total due to rounding.'},\n",
       "     {'NoteRef': '15',\n",
       "      'NoteText': 'Gross Output by Industry [Billions of dollars]'},\n",
       "     {'NoteRef': '16.1.A',\n",
       "      'NoteText': '1. Consists of agriculture, forestry, fishing, and hunting; mining; construction; and manufacturing.'},\n",
       "     {'NoteRef': '16.2.A',\n",
       "      'NoteText': '2. Consists of utilities; wholesale trade; retail trade; transportation and warehousing; information; finance, insurance, real estate, rental, and leasing; professional and business services; educational services, health care, and social assistance; arts, entertainment, recreation, accommodation, and food services; and other services, except government.'},\n",
       "     {'NoteRef': '16.3.A',\n",
       "      'NoteText': '3. Consists of computer and electronic product manufacturing (excluding navigational, measuring, electromedical, and control instruments manufacturing); software publishers; broadcasting and telecommunications; data processing, hosting and related services; internet publishing and broadcasting and web search portals; and computer systems design and related services.'},\n",
       "     {'NoteRef': '16',\n",
       "      'NoteText': 'Chain-Type Quantity Indexes for Gross Output by Industry [2017=100]'},\n",
       "     {'NoteRef': '17.1.A',\n",
       "      'NoteText': '1. Consists of agriculture, forestry, fishing, and hunting; mining; construction; and manufacturing.'},\n",
       "     {'NoteRef': '17.2.A',\n",
       "      'NoteText': '2. Consists of utilities; wholesale trade; retail trade; transportation and warehousing; information; finance, insurance, real estate, rental, and leasing; professional and business services; educational services, health care, and social assistance; arts, entertainment, recreation, accommodation, and food services; and other services, except government.'},\n",
       "     {'NoteRef': '17.3.A',\n",
       "      'NoteText': '3. Consists of computer and electronic product manufacturing (excluding navigational, measuring, electromedical, and control instruments manufacturing); software publishers; broadcasting and telecommunications; data processing, hosting and related services; internet publishing and broadcasting and web search portals; and computer systems design and related services.'},\n",
       "     {'NoteRef': '17',\n",
       "      'NoteText': 'Percent Changes in Chain-Type Quantity Indexes for Gross Output by Industry [Percent change]'},\n",
       "     {'NoteRef': '18.1.A',\n",
       "      'NoteText': '1. Consists of agriculture, forestry, fishing, and hunting; mining; construction; and manufacturing.'},\n",
       "     {'NoteRef': '18.2.A',\n",
       "      'NoteText': '2. Consists of utilities; wholesale trade; retail trade; transportation and warehousing; information; finance, insurance, real estate, rental, and leasing; professional and business services; educational services, health care, and social assistance; arts, entertainment, recreation, accommodation, and food services; and other services, except government.'},\n",
       "     {'NoteRef': '18.3.A',\n",
       "      'NoteText': '3. Consists of computer and electronic product manufacturing (excluding navigational, measuring, electromedical, and control instruments manufacturing); software publishers; broadcasting and telecommunications; data processing, hosting and related services; internet publishing and broadcasting and web search portals; and computer systems design and related services.'},\n",
       "     {'NoteRef': '18',\n",
       "      'NoteText': 'Chain-Type Price Indexes for Gross Output by Industry [2017=100]'},\n",
       "     {'NoteRef': '19.1.A',\n",
       "      'NoteText': '1. Consists of agriculture, forestry, fishing, and hunting; mining; construction; and manufacturing.'},\n",
       "     {'NoteRef': '19.2.A',\n",
       "      'NoteText': '2. Consists of utilities; wholesale trade; retail trade; transportation and warehousing; information; finance, insurance, real estate, rental, and leasing; professional and business services; educational services, health care, and social assistance; arts, entertainment, recreation, accommodation, and food services; and other services, except government.'},\n",
       "     {'NoteRef': '19.3.A',\n",
       "      'NoteText': '3. Consists of computer and electronic product manufacturing (excluding navigational, measuring, electromedical, and control instruments manufacturing); software publishers; broadcasting and telecommunications; data processing, hosting and related services; internet publishing and broadcasting and web search portals; and computer systems design and related services.'},\n",
       "     {'NoteRef': '19',\n",
       "      'NoteText': 'Percent Changes in Chain-Type Price Indexes for Gross Output by Industry [Percent change]'},\n",
       "     {'NoteRef': '20.1.A',\n",
       "      'NoteText': '1. Consists of agriculture, forestry, fishing, and hunting; mining; construction; and manufacturing.'},\n",
       "     {'NoteRef': '20.2.A',\n",
       "      'NoteText': '2. Consists of utilities; wholesale trade; retail trade; transportation and warehousing; information; finance, insurance, real estate, rental, and leasing; professional and business services; educational services, health care, and social assistance; arts, entertainment, recreation, accommodation, and food services; and other services, except government.'},\n",
       "     {'NoteRef': '20.3.A',\n",
       "      'NoteText': '3. Consists of computer and electronic product manufacturing (excluding navigational, measuring, electromedical, and control instruments manufacturing); software publishers; broadcasting and telecommunications; data processing, hosting and related services; internet publishing and broadcasting and web search portals; and computer systems design and related services.'},\n",
       "     {'NoteRef': '20.0.A',\n",
       "      'NoteText': 'Note. Detail may not add to total due to rounding.'},\n",
       "     {'NoteRef': '20',\n",
       "      'NoteText': 'Intermediate Inputs by Industry [Billions of dollars]'},\n",
       "     {'NoteRef': '208.1.A',\n",
       "      'NoteText': '1. Chained (2017) dollar series are calculated as the product of the chain-type quantity index and the 2017 current-dollar value of the corresponding series, divided by 100. Because the formula for the chain-type quantity indexes uses weights of more than one period, the corresponding chained-dollar estimates are usually not additive. The value of the Not allocated by industry line reflects the difference between the first line and the sum of the most detailed lines, as well as the differences in source data used to estimate GDP by industry and the expenditures measure of real GDP.'},\n",
       "     {'NoteRef': '208.2.A',\n",
       "      'NoteText': '2. Consists of agriculture, forestry, fishing, and hunting; mining; construction; and manufacturing.'},\n",
       "     {'NoteRef': '208.3.A',\n",
       "      'NoteText': '3. Consists of utilities; wholesale trade; retail trade; transportation and warehousing; information; finance, insurance, real estate, rental, and leasing; professional and business services; educational services, health care, and social assistance; arts, entertainment, recreation, accommodation, and food services; and other services, except government.'},\n",
       "     {'NoteRef': '208.4.A',\n",
       "      'NoteText': '4. Consists of computer and electronic product manufacturing (excluding navigational, measuring, electromedical, and control instruments manufacturing); software publishers; broadcasting and telecommunications; data processing, hosting and related services; internet publishing and broadcasting and web search portals; and computer systems design and related services.'},\n",
       "     {'NoteRef': '208',\n",
       "      'NoteText': 'Real Gross Output by Industry [Billions of 2017 chain dollars]'},\n",
       "     {'NoteRef': '209.1.A',\n",
       "      'NoteText': '1. Chained (2017) dollar series are calculated as the product of the chain-type quantity index and the 2017 current-dollar value of the corresponding series, divided by 100. Because the formula for the chain-type quantity indexes uses weights of more than one period, the corresponding chained-dollar estimates are usually not additive. The value of the Not allocated by industry line reflects the difference between the first line and the sum of the most detailed lines, as well as the differences in source data used to estimate GDP by industry and the expenditures measure of real GDP.'},\n",
       "     {'NoteRef': '209.2.A',\n",
       "      'NoteText': '2. Consists of agriculture, forestry, fishing, and hunting; mining; construction; and manufacturing.'},\n",
       "     {'NoteRef': '209.3.A',\n",
       "      'NoteText': '3. Consists of utilities; wholesale trade; retail trade; transportation and warehousing; information; finance, insurance, real estate, rental, and leasing; professional and business services; educational services, health care, and social assistance; arts, entertainment, recreation, accommodation, and food services; and other services, except government.'},\n",
       "     {'NoteRef': '209.4.A',\n",
       "      'NoteText': '4. Consists of computer and electronic product manufacturing (excluding navigational, measuring, electromedical, and control instruments manufacturing); software publishers; broadcasting and telecommunications; data processing, hosting and related services; internet publishing and broadcasting and web search portals; and computer systems design and related services.'},\n",
       "     {'NoteRef': '209',\n",
       "      'NoteText': 'Real Intermediate Inputs by Industry [Billions of 2017 chain dollars]'},\n",
       "     {'NoteRef': '21.1.A',\n",
       "      'NoteText': '1. Consists of agriculture, forestry, fishing, and hunting; mining; construction; and manufacturing.'},\n",
       "     {'NoteRef': '21.2.A',\n",
       "      'NoteText': '2. Consists of utilities; wholesale trade; retail trade; transportation and warehousing; information; finance, insurance, real estate, rental, and leasing; professional and business services; educational services, health care, and social assistance; arts, entertainment, recreation, accommodation, and food services; and other services, except government.'},\n",
       "     {'NoteRef': '21.3.A',\n",
       "      'NoteText': '3. Consists of computer and electronic product manufacturing (excluding navigational, measuring, electromedical, and control instruments manufacturing); software publishers; broadcasting and telecommunications; data processing, hosting and related services; internet publishing and broadcasting and web search portals; and computer systems design and related services.'},\n",
       "     {'NoteRef': '21',\n",
       "      'NoteText': 'Chain-Type Quantity Indexes for Intermediate Inputs by Industry [2017=100]'},\n",
       "     {'NoteRef': '22.1.A',\n",
       "      'NoteText': '1. Consists of agriculture, forestry, fishing, and hunting; mining; construction; and manufacturing.'},\n",
       "     {'NoteRef': '22.2.A',\n",
       "      'NoteText': '2. Consists of utilities; wholesale trade; retail trade; transportation and warehousing; information; finance, insurance, real estate, rental, and leasing; professional and business services; educational services, health care, and social assistance; arts, entertainment, recreation, accommodation, and food services; and other services, except government.'},\n",
       "     {'NoteRef': '22.3.A',\n",
       "      'NoteText': '3. Consists of computer and electronic product manufacturing (excluding navigational, measuring, electromedical, and control instruments manufacturing); software publishers; broadcasting and telecommunications; data processing, hosting and related services; internet publishing and broadcasting and web search portals; and computer systems design and related services.'},\n",
       "     {'NoteRef': '22',\n",
       "      'NoteText': 'Percent Changes in Chain-Type Quantity Indexes for Intermediate Inputs by Industry [Percent change]'},\n",
       "     {'NoteRef': '23.1.A',\n",
       "      'NoteText': '1. Consists of agriculture, forestry, fishing, and hunting; mining; construction; and manufacturing.'},\n",
       "     {'NoteRef': '23.2.A',\n",
       "      'NoteText': '2. Consists of utilities; wholesale trade; retail trade; transportation and warehousing; information; finance, insurance, real estate, rental, and leasing; professional and business services; educational services, health care, and social assistance; arts, entertainment, recreation, accommodation, and food services; and other services, except government.'},\n",
       "     {'NoteRef': '23.3.A',\n",
       "      'NoteText': '3. Consists of computer and electronic product manufacturing (excluding navigational, measuring, electromedical, and control instruments manufacturing); software publishers; broadcasting and telecommunications; data processing, hosting and related services; internet publishing and broadcasting and web search portals; and computer systems design and related services.'},\n",
       "     {'NoteRef': '23',\n",
       "      'NoteText': 'Chain-Type Price Indexes for Intermediate Inputs by Industry [2017=100]'},\n",
       "     {'NoteRef': '24.1.A',\n",
       "      'NoteText': '1. Consists of agriculture, forestry, fishing, and hunting; mining; construction; and manufacturing.'},\n",
       "     {'NoteRef': '24.2.A',\n",
       "      'NoteText': '2. Consists of utilities; wholesale trade; retail trade; transportation and warehousing; information; finance, insurance, real estate, rental, and leasing; professional and business services; educational services, health care, and social assistance; arts, entertainment, recreation, accommodation, and food services; and other services, except government.'},\n",
       "     {'NoteRef': '24.3.A',\n",
       "      'NoteText': '3. Consists of computer and electronic product manufacturing (excluding navigational, measuring, electromedical, and control instruments manufacturing); software publishers; broadcasting and telecommunications; data processing, hosting and related services; internet publishing and broadcasting and web search portals; and computer systems design and related services.'},\n",
       "     {'NoteRef': '24',\n",
       "      'NoteText': 'Percent Changes in Chain-Type Price Indexes for Intermediate Inputs by Industry [Percent change]'},\n",
       "     {'NoteRef': '5.1.A',\n",
       "      'NoteText': '1. Consists of agriculture, forestry, fishing, and hunting; mining; construction; and manufacturing.'},\n",
       "     {'NoteRef': '5.2.A',\n",
       "      'NoteText': '2. Consists of utilities; wholesale trade; retail trade; transportation and warehousing; information; finance, insurance, real estate, rental, and leasing; professional and business services; educational services, health care, and social assistance; arts, entertainment, recreation, accommodation, and food services; and other services, except government.'},\n",
       "     {'NoteRef': '5.3.A',\n",
       "      'NoteText': '3. Consists of computer and electronic product manufacturing (excluding navigational, measuring, electromedical, and control instruments manufacturing); software publishers; broadcasting and telecommunications; data processing, hosting and related services; internet publishing and broadcasting and web search portals; and computer systems design and related services.'},\n",
       "     {'NoteRef': '5.0.A',\n",
       "      'NoteText': 'Note. Detail may not add to total due to rounding.'},\n",
       "     {'NoteRef': '5',\n",
       "      'NoteText': 'Value added by Industry as a Percentage of Gross Domestic Product [Percent]'},\n",
       "     {'NoteRef': '6',\n",
       "      'NoteText': 'Components of Value Added by Industry [Billions of dollars]'},\n",
       "     {'NoteRef': '7',\n",
       "      'NoteText': 'Components of Value Added by Industry as a Percentage of Value Added [Percent]'},\n",
       "     {'NoteRef': '8.1.A',\n",
       "      'NoteText': '1. Consists of agriculture, forestry, fishing, and hunting; mining; construction; and manufacturing.'},\n",
       "     {'NoteRef': '8.2.A',\n",
       "      'NoteText': '2. Consists of utilities; wholesale trade; retail trade; transportation and warehousing; information; finance, insurance, real estate, rental, and leasing; professional and business services; educational services, health care, and social assistance; arts, entertainment, recreation, accommodation, and food services; and other services, except government.'},\n",
       "     {'NoteRef': '8.3.A',\n",
       "      'NoteText': '3. Consists of computer and electronic product manufacturing (excluding navigational, measuring, electromedical, and control instruments manufacturing); software publishers; broadcasting and telecommunications; data processing, hosting and related services; internet publishing and broadcasting and web search portals; and computer systems design and related services.'},\n",
       "     {'NoteRef': '8',\n",
       "      'NoteText': 'Chain-Type Quantity Indexes for Value Added by Industry [2017=100]'},\n",
       "     {'NoteRef': '9.1.A',\n",
       "      'NoteText': '1. Consists of agriculture, forestry, fishing, and hunting; mining; construction; and manufacturing.'},\n",
       "     {'NoteRef': '9.2.A',\n",
       "      'NoteText': '2. Consists of utilities; wholesale trade; retail trade; transportation and warehousing; information; finance, insurance, real estate, rental, and leasing; professional and business services; educational services, health care, and social assistance; arts, entertainment, recreation, accommodation, and food services; and other services, except government.'},\n",
       "     {'NoteRef': '9.3.A',\n",
       "      'NoteText': '3. Consists of computer and electronic product manufacturing (excluding navigational, measuring, electromedical, and control instruments manufacturing); software publishers; broadcasting and telecommunications; data processing, hosting and related services; internet publishing and broadcasting and web search portals; and computer systems design and related services.'},\n",
       "     {'NoteRef': '9',\n",
       "      'NoteText': 'Percent Changes in Chain-Type Quantity Indexes for Value Added by Industry [Percent change]'}]}]}}"
      ]
     },
     "execution_count": 35,
     "metadata": {},
     "output_type": "execute_result"
    }
   ],
   "source": [
    "data, response = api_request(url7)\n",
    "data"
   ]
  },
  {
   "cell_type": "code",
   "execution_count": null,
   "id": "e0f52589",
   "metadata": {},
   "outputs": [],
   "source": []
  },
  {
   "cell_type": "code",
   "execution_count": null,
   "id": "7112e01a",
   "metadata": {},
   "outputs": [],
   "source": []
  },
  {
   "cell_type": "code",
   "execution_count": null,
   "id": "d1129a35",
   "metadata": {},
   "outputs": [],
   "source": []
  },
  {
   "cell_type": "code",
   "execution_count": null,
   "id": "fbccb1e5",
   "metadata": {},
   "outputs": [],
   "source": []
  },
  {
   "cell_type": "code",
   "execution_count": null,
   "id": "fb7f7855",
   "metadata": {},
   "outputs": [],
   "source": []
  },
  {
   "cell_type": "code",
   "execution_count": null,
   "id": "33109277",
   "metadata": {},
   "outputs": [],
   "source": [
    "page_1 = pd.DataFrame(area_country['BEAAPI']['Results']['ParamValue'])\n",
    "page_1"
   ]
  },
  {
   "cell_type": "code",
   "execution_count": null,
   "id": "a480c802",
   "metadata": {},
   "outputs": [],
   "source": [
    "i = 4\n",
    "changable_url = f'https://swapi.dev/api/people/?page={i}'"
   ]
  }
 ],
 "metadata": {
  "kernelspec": {
   "display_name": "Python 3 (ipykernel)",
   "language": "python",
   "name": "python3"
  },
  "language_info": {
   "codemirror_mode": {
    "name": "ipython",
    "version": 3
   },
   "file_extension": ".py",
   "mimetype": "text/x-python",
   "name": "python",
   "nbconvert_exporter": "python",
   "pygments_lexer": "ipython3",
   "version": "3.11.3"
  }
 },
 "nbformat": 4,
 "nbformat_minor": 5
}
