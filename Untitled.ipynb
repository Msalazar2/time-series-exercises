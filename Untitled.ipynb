{
 "cells": [
  {
   "cell_type": "code",
   "execution_count": 7,
   "id": "84f899ff",
   "metadata": {},
   "outputs": [],
   "source": [
    "import pandas as pd\n",
    "from datetime import timedelta, datetime\n",
    "import numpy as np\n",
    "import matplotlib.pyplot as plt\n",
    "from env import get_connection\n",
    "import warnings\n",
    "warnings.filterwarnings(\"ignore\")\n"
   ]
  },
  {
   "cell_type": "code",
   "execution_count": 8,
   "id": "359dc1cb",
   "metadata": {},
   "outputs": [],
   "source": [
    "query = '''\n",
    "        SELECT sale_date, sale_amount,\n",
    "        item_brand, item_name, item_price,\n",
    "        store_address, store_zipcode,\n",
    "        store_city, store_state \n",
    "        FROM sales\n",
    "        LEFT JOIN items USING (item_id)\n",
    "        LEFT JOIN stores USING(store_id)\n",
    "        '''"
   ]
  },
  {
   "cell_type": "code",
   "execution_count": 9,
   "id": "20c6ad26",
   "metadata": {},
   "outputs": [],
   "source": [
    "url = get_connection('tsa_item_demand')"
   ]
  },
  {
   "cell_type": "code",
   "execution_count": 10,
   "id": "4bfaeb26",
   "metadata": {},
   "outputs": [
    {
     "data": {
      "text/html": [
       "<div>\n",
       "<style scoped>\n",
       "    .dataframe tbody tr th:only-of-type {\n",
       "        vertical-align: middle;\n",
       "    }\n",
       "\n",
       "    .dataframe tbody tr th {\n",
       "        vertical-align: top;\n",
       "    }\n",
       "\n",
       "    .dataframe thead th {\n",
       "        text-align: right;\n",
       "    }\n",
       "</style>\n",
       "<table border=\"1\" class=\"dataframe\">\n",
       "  <thead>\n",
       "    <tr style=\"text-align: right;\">\n",
       "      <th></th>\n",
       "      <th>sale_date</th>\n",
       "      <th>sale_amount</th>\n",
       "      <th>item_brand</th>\n",
       "      <th>item_name</th>\n",
       "      <th>item_price</th>\n",
       "      <th>store_address</th>\n",
       "      <th>store_zipcode</th>\n",
       "      <th>store_city</th>\n",
       "      <th>store_state</th>\n",
       "    </tr>\n",
       "  </thead>\n",
       "  <tbody>\n",
       "    <tr>\n",
       "      <th>0</th>\n",
       "      <td>2013-01-01</td>\n",
       "      <td>13</td>\n",
       "      <td>Riceland</td>\n",
       "      <td>Riceland American Jazmine Rice</td>\n",
       "      <td>0.84</td>\n",
       "      <td>12125 Alamo Ranch Pkwy</td>\n",
       "      <td>78253</td>\n",
       "      <td>San Antonio</td>\n",
       "      <td>TX</td>\n",
       "    </tr>\n",
       "    <tr>\n",
       "      <th>1</th>\n",
       "      <td>2013-01-02</td>\n",
       "      <td>11</td>\n",
       "      <td>Riceland</td>\n",
       "      <td>Riceland American Jazmine Rice</td>\n",
       "      <td>0.84</td>\n",
       "      <td>12125 Alamo Ranch Pkwy</td>\n",
       "      <td>78253</td>\n",
       "      <td>San Antonio</td>\n",
       "      <td>TX</td>\n",
       "    </tr>\n",
       "    <tr>\n",
       "      <th>2</th>\n",
       "      <td>2013-01-03</td>\n",
       "      <td>14</td>\n",
       "      <td>Riceland</td>\n",
       "      <td>Riceland American Jazmine Rice</td>\n",
       "      <td>0.84</td>\n",
       "      <td>12125 Alamo Ranch Pkwy</td>\n",
       "      <td>78253</td>\n",
       "      <td>San Antonio</td>\n",
       "      <td>TX</td>\n",
       "    </tr>\n",
       "    <tr>\n",
       "      <th>3</th>\n",
       "      <td>2013-01-04</td>\n",
       "      <td>13</td>\n",
       "      <td>Riceland</td>\n",
       "      <td>Riceland American Jazmine Rice</td>\n",
       "      <td>0.84</td>\n",
       "      <td>12125 Alamo Ranch Pkwy</td>\n",
       "      <td>78253</td>\n",
       "      <td>San Antonio</td>\n",
       "      <td>TX</td>\n",
       "    </tr>\n",
       "    <tr>\n",
       "      <th>4</th>\n",
       "      <td>2013-01-05</td>\n",
       "      <td>10</td>\n",
       "      <td>Riceland</td>\n",
       "      <td>Riceland American Jazmine Rice</td>\n",
       "      <td>0.84</td>\n",
       "      <td>12125 Alamo Ranch Pkwy</td>\n",
       "      <td>78253</td>\n",
       "      <td>San Antonio</td>\n",
       "      <td>TX</td>\n",
       "    </tr>\n",
       "  </tbody>\n",
       "</table>\n",
       "</div>"
      ],
      "text/plain": [
       "    sale_date  sale_amount item_brand                       item_name  \\\n",
       "0  2013-01-01           13   Riceland  Riceland American Jazmine Rice   \n",
       "1  2013-01-02           11   Riceland  Riceland American Jazmine Rice   \n",
       "2  2013-01-03           14   Riceland  Riceland American Jazmine Rice   \n",
       "3  2013-01-04           13   Riceland  Riceland American Jazmine Rice   \n",
       "4  2013-01-05           10   Riceland  Riceland American Jazmine Rice   \n",
       "\n",
       "   item_price           store_address store_zipcode   store_city store_state  \n",
       "0        0.84  12125 Alamo Ranch Pkwy         78253  San Antonio          TX  \n",
       "1        0.84  12125 Alamo Ranch Pkwy         78253  San Antonio          TX  \n",
       "2        0.84  12125 Alamo Ranch Pkwy         78253  San Antonio          TX  \n",
       "3        0.84  12125 Alamo Ranch Pkwy         78253  San Antonio          TX  \n",
       "4        0.84  12125 Alamo Ranch Pkwy         78253  San Antonio          TX  "
      ]
     },
     "execution_count": 10,
     "metadata": {},
     "output_type": "execute_result"
    }
   ],
   "source": [
    "df = pd.read_sql(query, url)\n",
    "df.head()"
   ]
  },
  {
   "cell_type": "code",
   "execution_count": 11,
   "id": "b5f2cb1a",
   "metadata": {},
   "outputs": [
    {
     "data": {
      "text/plain": [
       "(913000, 9)"
      ]
     },
     "execution_count": 11,
     "metadata": {},
     "output_type": "execute_result"
    }
   ],
   "source": [
    "df.shape"
   ]
  },
  {
   "cell_type": "code",
   "execution_count": 12,
   "id": "c9adf8f6",
   "metadata": {},
   "outputs": [
    {
     "data": {
      "text/plain": [
       "sale_date        0\n",
       "sale_amount      0\n",
       "item_brand       0\n",
       "item_name        0\n",
       "item_price       0\n",
       "store_address    0\n",
       "store_zipcode    0\n",
       "store_city       0\n",
       "store_state      0\n",
       "dtype: int64"
      ]
     },
     "execution_count": 12,
     "metadata": {},
     "output_type": "execute_result"
    }
   ],
   "source": [
    "df.isna().sum()"
   ]
  },
  {
   "cell_type": "code",
   "execution_count": 13,
   "id": "2f7c7474",
   "metadata": {},
   "outputs": [
    {
     "name": "stdout",
     "output_type": "stream",
     "text": [
      "<class 'pandas.core.frame.DataFrame'>\n",
      "RangeIndex: 913000 entries, 0 to 912999\n",
      "Data columns (total 9 columns):\n",
      " #   Column         Non-Null Count   Dtype  \n",
      "---  ------         --------------   -----  \n",
      " 0   sale_date      913000 non-null  object \n",
      " 1   sale_amount    913000 non-null  int64  \n",
      " 2   item_brand     913000 non-null  object \n",
      " 3   item_name      913000 non-null  object \n",
      " 4   item_price     913000 non-null  float64\n",
      " 5   store_address  913000 non-null  object \n",
      " 6   store_zipcode  913000 non-null  object \n",
      " 7   store_city     913000 non-null  object \n",
      " 8   store_state    913000 non-null  object \n",
      "dtypes: float64(1), int64(1), object(7)\n",
      "memory usage: 62.7+ MB\n"
     ]
    }
   ],
   "source": [
    "df.info()"
   ]
  },
  {
   "cell_type": "markdown",
   "id": "2b7727e6",
   "metadata": {},
   "source": [
    "## 1. Convert date colum to datetime format"
   ]
  },
  {
   "cell_type": "code",
   "execution_count": 14,
   "id": "33c39996",
   "metadata": {},
   "outputs": [],
   "source": [
    "df.sale_date = pd.to_datetime(df.sale_date)"
   ]
  },
  {
   "cell_type": "code",
   "execution_count": 15,
   "id": "8a226712",
   "metadata": {
    "scrolled": true
   },
   "outputs": [
    {
     "name": "stdout",
     "output_type": "stream",
     "text": [
      "<class 'pandas.core.frame.DataFrame'>\n",
      "RangeIndex: 913000 entries, 0 to 912999\n",
      "Data columns (total 9 columns):\n",
      " #   Column         Non-Null Count   Dtype         \n",
      "---  ------         --------------   -----         \n",
      " 0   sale_date      913000 non-null  datetime64[ns]\n",
      " 1   sale_amount    913000 non-null  int64         \n",
      " 2   item_brand     913000 non-null  object        \n",
      " 3   item_name      913000 non-null  object        \n",
      " 4   item_price     913000 non-null  float64       \n",
      " 5   store_address  913000 non-null  object        \n",
      " 6   store_zipcode  913000 non-null  object        \n",
      " 7   store_city     913000 non-null  object        \n",
      " 8   store_state    913000 non-null  object        \n",
      "dtypes: datetime64[ns](1), float64(1), int64(1), object(6)\n",
      "memory usage: 62.7+ MB\n"
     ]
    }
   ],
   "source": [
    "df.info()"
   ]
  },
  {
   "cell_type": "markdown",
   "id": "8936e2bb",
   "metadata": {},
   "source": [
    "## 2. Plot the distribution of sale_amount and item_price"
   ]
  },
  {
   "cell_type": "code",
   "execution_count": 22,
   "id": "2cf91349",
   "metadata": {},
   "outputs": [
    {
     "data": {
      "image/png": "[encoded data removed]",
      "text/plain": [
       "<Figure size 640x480 with 1 Axes>"
      ]
     },
     "metadata": {},
     "output_type": "display_data"
    }
   ],
   "source": [
    "plt.hist(df.sale_amount, bins = 50)\n",
    "plt.xlabel('Sale Amount')\n",
    "plt.ylabel('Count')\n",
    "plt.title('Distribution of Sale Amount')\n",
    "plt.show()"
   ]
  },
  {
   "cell_type": "code",
   "execution_count": 24,
   "id": "c10b2b0a",
   "metadata": {},
   "outputs": [
    {
     "data": {
      "image/png": "[encoded data removed]",
      "text/plain": [
       "<Figure size 640x480 with 1 Axes>"
      ]
     },
     "metadata": {},
     "output_type": "display_data"
    }
   ],
   "source": [
    "plt.hist(df.item_price, bins = 50)\n",
    "plt.xlabel('Item Price')\n",
    "plt.ylabel('Count')\n",
    "plt.title('Distribution of Item Price')\n",
    "plt.show()"
   ]
  },
  {
   "cell_type": "markdown",
   "id": "dd0f3736",
   "metadata": {},
   "source": [
    "## 3. Set the index to be the datetime variable"
   ]
  },
  {
   "cell_type": "code",
   "execution_count": 25,
   "id": "d24cf71a",
   "metadata": {},
   "outputs": [],
   "source": [
    "df = df.set_index('sale_date').sort_index()"
   ]
  },
  {
   "cell_type": "code",
   "execution_count": 26,
   "id": "5d925a52",
   "metadata": {},
   "outputs": [
    {
     "data": {
      "text/html": [
       "<div>\n",
       "<style scoped>\n",
       "    .dataframe tbody tr th:only-of-type {\n",
       "        vertical-align: middle;\n",
       "    }\n",
       "\n",
       "    .dataframe tbody tr th {\n",
       "        vertical-align: top;\n",
       "    }\n",
       "\n",
       "    .dataframe thead th {\n",
       "        text-align: right;\n",
       "    }\n",
       "</style>\n",
       "<table border=\"1\" class=\"dataframe\">\n",
       "  <thead>\n",
       "    <tr style=\"text-align: right;\">\n",
       "      <th></th>\n",
       "      <th>sale_amount</th>\n",
       "      <th>item_brand</th>\n",
       "      <th>item_name</th>\n",
       "      <th>item_price</th>\n",
       "      <th>store_address</th>\n",
       "      <th>store_zipcode</th>\n",
       "      <th>store_city</th>\n",
       "      <th>store_state</th>\n",
       "    </tr>\n",
       "    <tr>\n",
       "      <th>sale_date</th>\n",
       "      <th></th>\n",
       "      <th></th>\n",
       "      <th></th>\n",
       "      <th></th>\n",
       "      <th></th>\n",
       "      <th></th>\n",
       "      <th></th>\n",
       "      <th></th>\n",
       "    </tr>\n",
       "  </thead>\n",
       "  <tbody>\n",
       "    <tr>\n",
       "      <th>2013-01-01</th>\n",
       "      <td>13</td>\n",
       "      <td>Riceland</td>\n",
       "      <td>Riceland American Jazmine Rice</td>\n",
       "      <td>0.84</td>\n",
       "      <td>12125 Alamo Ranch Pkwy</td>\n",
       "      <td>78253</td>\n",
       "      <td>San Antonio</td>\n",
       "      <td>TX</td>\n",
       "    </tr>\n",
       "    <tr>\n",
       "      <th>2013-01-01</th>\n",
       "      <td>26</td>\n",
       "      <td>Mueller</td>\n",
       "      <td>Mueller Sport Care Basic Support Level Medium ...</td>\n",
       "      <td>8.40</td>\n",
       "      <td>12018 Perrin Beitel Rd</td>\n",
       "      <td>78217</td>\n",
       "      <td>San Antonio</td>\n",
       "      <td>TX</td>\n",
       "    </tr>\n",
       "    <tr>\n",
       "      <th>2013-01-01</th>\n",
       "      <td>27</td>\n",
       "      <td>Mama Marys</td>\n",
       "      <td>Pizza Sauce</td>\n",
       "      <td>4.65</td>\n",
       "      <td>12018 Perrin Beitel Rd</td>\n",
       "      <td>78217</td>\n",
       "      <td>San Antonio</td>\n",
       "      <td>TX</td>\n",
       "    </tr>\n",
       "    <tr>\n",
       "      <th>2013-01-01</th>\n",
       "      <td>54</td>\n",
       "      <td>Mueller</td>\n",
       "      <td>Mueller Sport Care Basic Support Level Medium ...</td>\n",
       "      <td>8.40</td>\n",
       "      <td>15000 San Pedro Ave</td>\n",
       "      <td>78232</td>\n",
       "      <td>San Antonio</td>\n",
       "      <td>TX</td>\n",
       "    </tr>\n",
       "    <tr>\n",
       "      <th>2013-01-01</th>\n",
       "      <td>35</td>\n",
       "      <td>Mueller</td>\n",
       "      <td>Mueller Sport Care Basic Support Level Medium ...</td>\n",
       "      <td>8.40</td>\n",
       "      <td>735 SW Military Dr</td>\n",
       "      <td>78221</td>\n",
       "      <td>San Antonio</td>\n",
       "      <td>TX</td>\n",
       "    </tr>\n",
       "  </tbody>\n",
       "</table>\n",
       "</div>"
      ],
      "text/plain": [
       "            sale_amount  item_brand  \\\n",
       "sale_date                             \n",
       "2013-01-01           13    Riceland   \n",
       "2013-01-01           26     Mueller   \n",
       "2013-01-01           27  Mama Marys   \n",
       "2013-01-01           54     Mueller   \n",
       "2013-01-01           35     Mueller   \n",
       "\n",
       "                                                    item_name  item_price  \\\n",
       "sale_date                                                                   \n",
       "2013-01-01                     Riceland American Jazmine Rice        0.84   \n",
       "2013-01-01  Mueller Sport Care Basic Support Level Medium ...        8.40   \n",
       "2013-01-01                                        Pizza Sauce        4.65   \n",
       "2013-01-01  Mueller Sport Care Basic Support Level Medium ...        8.40   \n",
       "2013-01-01  Mueller Sport Care Basic Support Level Medium ...        8.40   \n",
       "\n",
       "                     store_address store_zipcode   store_city store_state  \n",
       "sale_date                                                                  \n",
       "2013-01-01  12125 Alamo Ranch Pkwy         78253  San Antonio          TX  \n",
       "2013-01-01  12018 Perrin Beitel Rd         78217  San Antonio          TX  \n",
       "2013-01-01  12018 Perrin Beitel Rd         78217  San Antonio          TX  \n",
       "2013-01-01     15000 San Pedro Ave         78232  San Antonio          TX  \n",
       "2013-01-01      735 SW Military Dr         78221  San Antonio          TX  "
      ]
     },
     "execution_count": 26,
     "metadata": {},
     "output_type": "execute_result"
    }
   ],
   "source": [
    "df.head()"
   ]
  },
  {
   "cell_type": "code",
   "execution_count": 27,
   "id": "f93434ff",
   "metadata": {},
   "outputs": [],
   "source": [
    "df['month'] = df.index.month_name()"
   ]
  },
  {
   "cell_type": "code",
   "execution_count": 28,
   "id": "71b116d7",
   "metadata": {},
   "outputs": [],
   "source": [
    "df['day'] = df.index.day_name()"
   ]
  },
  {
   "cell_type": "code",
   "execution_count": 29,
   "id": "86301232",
   "metadata": {},
   "outputs": [
    {
     "data": {
      "text/html": [
       "<div>\n",
       "<style scoped>\n",
       "    .dataframe tbody tr th:only-of-type {\n",
       "        vertical-align: middle;\n",
       "    }\n",
       "\n",
       "    .dataframe tbody tr th {\n",
       "        vertical-align: top;\n",
       "    }\n",
       "\n",
       "    .dataframe thead th {\n",
       "        text-align: right;\n",
       "    }\n",
       "</style>\n",
       "<table border=\"1\" class=\"dataframe\">\n",
       "  <thead>\n",
       "    <tr style=\"text-align: right;\">\n",
       "      <th></th>\n",
       "      <th>sale_amount</th>\n",
       "      <th>item_brand</th>\n",
       "      <th>item_name</th>\n",
       "      <th>item_price</th>\n",
       "      <th>store_address</th>\n",
       "      <th>store_zipcode</th>\n",
       "      <th>store_city</th>\n",
       "      <th>store_state</th>\n",
       "      <th>month</th>\n",
       "      <th>day</th>\n",
       "    </tr>\n",
       "    <tr>\n",
       "      <th>sale_date</th>\n",
       "      <th></th>\n",
       "      <th></th>\n",
       "      <th></th>\n",
       "      <th></th>\n",
       "      <th></th>\n",
       "      <th></th>\n",
       "      <th></th>\n",
       "      <th></th>\n",
       "      <th></th>\n",
       "      <th></th>\n",
       "    </tr>\n",
       "  </thead>\n",
       "  <tbody>\n",
       "    <tr>\n",
       "      <th>2013-01-01</th>\n",
       "      <td>13</td>\n",
       "      <td>Riceland</td>\n",
       "      <td>Riceland American Jazmine Rice</td>\n",
       "      <td>0.84</td>\n",
       "      <td>12125 Alamo Ranch Pkwy</td>\n",
       "      <td>78253</td>\n",
       "      <td>San Antonio</td>\n",
       "      <td>TX</td>\n",
       "      <td>January</td>\n",
       "      <td>Tuesday</td>\n",
       "    </tr>\n",
       "    <tr>\n",
       "      <th>2013-01-01</th>\n",
       "      <td>26</td>\n",
       "      <td>Mueller</td>\n",
       "      <td>Mueller Sport Care Basic Support Level Medium ...</td>\n",
       "      <td>8.40</td>\n",
       "      <td>12018 Perrin Beitel Rd</td>\n",
       "      <td>78217</td>\n",
       "      <td>San Antonio</td>\n",
       "      <td>TX</td>\n",
       "      <td>January</td>\n",
       "      <td>Tuesday</td>\n",
       "    </tr>\n",
       "    <tr>\n",
       "      <th>2013-01-01</th>\n",
       "      <td>27</td>\n",
       "      <td>Mama Marys</td>\n",
       "      <td>Pizza Sauce</td>\n",
       "      <td>4.65</td>\n",
       "      <td>12018 Perrin Beitel Rd</td>\n",
       "      <td>78217</td>\n",
       "      <td>San Antonio</td>\n",
       "      <td>TX</td>\n",
       "      <td>January</td>\n",
       "      <td>Tuesday</td>\n",
       "    </tr>\n",
       "    <tr>\n",
       "      <th>2013-01-01</th>\n",
       "      <td>54</td>\n",
       "      <td>Mueller</td>\n",
       "      <td>Mueller Sport Care Basic Support Level Medium ...</td>\n",
       "      <td>8.40</td>\n",
       "      <td>15000 San Pedro Ave</td>\n",
       "      <td>78232</td>\n",
       "      <td>San Antonio</td>\n",
       "      <td>TX</td>\n",
       "      <td>January</td>\n",
       "      <td>Tuesday</td>\n",
       "    </tr>\n",
       "    <tr>\n",
       "      <th>2013-01-01</th>\n",
       "      <td>35</td>\n",
       "      <td>Mueller</td>\n",
       "      <td>Mueller Sport Care Basic Support Level Medium ...</td>\n",
       "      <td>8.40</td>\n",
       "      <td>735 SW Military Dr</td>\n",
       "      <td>78221</td>\n",
       "      <td>San Antonio</td>\n",
       "      <td>TX</td>\n",
       "      <td>January</td>\n",
       "      <td>Tuesday</td>\n",
       "    </tr>\n",
       "  </tbody>\n",
       "</table>\n",
       "</div>"
      ],
      "text/plain": [
       "            sale_amount  item_brand  \\\n",
       "sale_date                             \n",
       "2013-01-01           13    Riceland   \n",
       "2013-01-01           26     Mueller   \n",
       "2013-01-01           27  Mama Marys   \n",
       "2013-01-01           54     Mueller   \n",
       "2013-01-01           35     Mueller   \n",
       "\n",
       "                                                    item_name  item_price  \\\n",
       "sale_date                                                                   \n",
       "2013-01-01                     Riceland American Jazmine Rice        0.84   \n",
       "2013-01-01  Mueller Sport Care Basic Support Level Medium ...        8.40   \n",
       "2013-01-01                                        Pizza Sauce        4.65   \n",
       "2013-01-01  Mueller Sport Care Basic Support Level Medium ...        8.40   \n",
       "2013-01-01  Mueller Sport Care Basic Support Level Medium ...        8.40   \n",
       "\n",
       "                     store_address store_zipcode   store_city store_state  \\\n",
       "sale_date                                                                   \n",
       "2013-01-01  12125 Alamo Ranch Pkwy         78253  San Antonio          TX   \n",
       "2013-01-01  12018 Perrin Beitel Rd         78217  San Antonio          TX   \n",
       "2013-01-01  12018 Perrin Beitel Rd         78217  San Antonio          TX   \n",
       "2013-01-01     15000 San Pedro Ave         78232  San Antonio          TX   \n",
       "2013-01-01      735 SW Military Dr         78221  San Antonio          TX   \n",
       "\n",
       "              month      day  \n",
       "sale_date                     \n",
       "2013-01-01  January  Tuesday  \n",
       "2013-01-01  January  Tuesday  \n",
       "2013-01-01  January  Tuesday  \n",
       "2013-01-01  January  Tuesday  \n",
       "2013-01-01  January  Tuesday  "
      ]
     },
     "execution_count": 29,
     "metadata": {},
     "output_type": "execute_result"
    }
   ],
   "source": [
    "df.head()"
   ]
  },
  {
   "cell_type": "markdown",
   "id": "2bd97cad",
   "metadata": {},
   "source": [
    "## 5. Add a column to your dataframe, sales_total, which is a derived from sale_amount (total_items) and item_price"
   ]
  },
  {
   "cell_type": "code",
   "execution_count": 30,
   "id": "7c8455fa",
   "metadata": {},
   "outputs": [
    {
     "data": {
      "text/html": [
       "<div>\n",
       "<style scoped>\n",
       "    .dataframe tbody tr th:only-of-type {\n",
       "        vertical-align: middle;\n",
       "    }\n",
       "\n",
       "    .dataframe tbody tr th {\n",
       "        vertical-align: top;\n",
       "    }\n",
       "\n",
       "    .dataframe thead th {\n",
       "        text-align: right;\n",
       "    }\n",
       "</style>\n",
       "<table border=\"1\" class=\"dataframe\">\n",
       "  <thead>\n",
       "    <tr style=\"text-align: right;\">\n",
       "      <th></th>\n",
       "      <th>sale_amount</th>\n",
       "      <th>item_brand</th>\n",
       "      <th>item_name</th>\n",
       "      <th>item_price</th>\n",
       "      <th>store_address</th>\n",
       "      <th>store_zipcode</th>\n",
       "      <th>store_city</th>\n",
       "      <th>store_state</th>\n",
       "      <th>month</th>\n",
       "      <th>day</th>\n",
       "      <th>sales_total</th>\n",
       "    </tr>\n",
       "    <tr>\n",
       "      <th>sale_date</th>\n",
       "      <th></th>\n",
       "      <th></th>\n",
       "      <th></th>\n",
       "      <th></th>\n",
       "      <th></th>\n",
       "      <th></th>\n",
       "      <th></th>\n",
       "      <th></th>\n",
       "      <th></th>\n",
       "      <th></th>\n",
       "      <th></th>\n",
       "    </tr>\n",
       "  </thead>\n",
       "  <tbody>\n",
       "    <tr>\n",
       "      <th>2013-01-01</th>\n",
       "      <td>13</td>\n",
       "      <td>Riceland</td>\n",
       "      <td>Riceland American Jazmine Rice</td>\n",
       "      <td>0.84</td>\n",
       "      <td>12125 Alamo Ranch Pkwy</td>\n",
       "      <td>78253</td>\n",
       "      <td>San Antonio</td>\n",
       "      <td>TX</td>\n",
       "      <td>January</td>\n",
       "      <td>Tuesday</td>\n",
       "      <td>10.92</td>\n",
       "    </tr>\n",
       "    <tr>\n",
       "      <th>2013-01-01</th>\n",
       "      <td>26</td>\n",
       "      <td>Mueller</td>\n",
       "      <td>Mueller Sport Care Basic Support Level Medium ...</td>\n",
       "      <td>8.40</td>\n",
       "      <td>12018 Perrin Beitel Rd</td>\n",
       "      <td>78217</td>\n",
       "      <td>San Antonio</td>\n",
       "      <td>TX</td>\n",
       "      <td>January</td>\n",
       "      <td>Tuesday</td>\n",
       "      <td>218.40</td>\n",
       "    </tr>\n",
       "    <tr>\n",
       "      <th>2013-01-01</th>\n",
       "      <td>27</td>\n",
       "      <td>Mama Marys</td>\n",
       "      <td>Pizza Sauce</td>\n",
       "      <td>4.65</td>\n",
       "      <td>12018 Perrin Beitel Rd</td>\n",
       "      <td>78217</td>\n",
       "      <td>San Antonio</td>\n",
       "      <td>TX</td>\n",
       "      <td>January</td>\n",
       "      <td>Tuesday</td>\n",
       "      <td>125.55</td>\n",
       "    </tr>\n",
       "    <tr>\n",
       "      <th>2013-01-01</th>\n",
       "      <td>54</td>\n",
       "      <td>Mueller</td>\n",
       "      <td>Mueller Sport Care Basic Support Level Medium ...</td>\n",
       "      <td>8.40</td>\n",
       "      <td>15000 San Pedro Ave</td>\n",
       "      <td>78232</td>\n",
       "      <td>San Antonio</td>\n",
       "      <td>TX</td>\n",
       "      <td>January</td>\n",
       "      <td>Tuesday</td>\n",
       "      <td>453.60</td>\n",
       "    </tr>\n",
       "    <tr>\n",
       "      <th>2013-01-01</th>\n",
       "      <td>35</td>\n",
       "      <td>Mueller</td>\n",
       "      <td>Mueller Sport Care Basic Support Level Medium ...</td>\n",
       "      <td>8.40</td>\n",
       "      <td>735 SW Military Dr</td>\n",
       "      <td>78221</td>\n",
       "      <td>San Antonio</td>\n",
       "      <td>TX</td>\n",
       "      <td>January</td>\n",
       "      <td>Tuesday</td>\n",
       "      <td>294.00</td>\n",
       "    </tr>\n",
       "  </tbody>\n",
       "</table>\n",
       "</div>"
      ],
      "text/plain": [
       "            sale_amount  item_brand  \\\n",
       "sale_date                             \n",
       "2013-01-01           13    Riceland   \n",
       "2013-01-01           26     Mueller   \n",
       "2013-01-01           27  Mama Marys   \n",
       "2013-01-01           54     Mueller   \n",
       "2013-01-01           35     Mueller   \n",
       "\n",
       "                                                    item_name  item_price  \\\n",
       "sale_date                                                                   \n",
       "2013-01-01                     Riceland American Jazmine Rice        0.84   \n",
       "2013-01-01  Mueller Sport Care Basic Support Level Medium ...        8.40   \n",
       "2013-01-01                                        Pizza Sauce        4.65   \n",
       "2013-01-01  Mueller Sport Care Basic Support Level Medium ...        8.40   \n",
       "2013-01-01  Mueller Sport Care Basic Support Level Medium ...        8.40   \n",
       "\n",
       "                     store_address store_zipcode   store_city store_state  \\\n",
       "sale_date                                                                   \n",
       "2013-01-01  12125 Alamo Ranch Pkwy         78253  San Antonio          TX   \n",
       "2013-01-01  12018 Perrin Beitel Rd         78217  San Antonio          TX   \n",
       "2013-01-01  12018 Perrin Beitel Rd         78217  San Antonio          TX   \n",
       "2013-01-01     15000 San Pedro Ave         78232  San Antonio          TX   \n",
       "2013-01-01      735 SW Military Dr         78221  San Antonio          TX   \n",
       "\n",
       "              month      day  sales_total  \n",
       "sale_date                                  \n",
       "2013-01-01  January  Tuesday        10.92  \n",
       "2013-01-01  January  Tuesday       218.40  \n",
       "2013-01-01  January  Tuesday       125.55  \n",
       "2013-01-01  January  Tuesday       453.60  \n",
       "2013-01-01  January  Tuesday       294.00  "
      ]
     },
     "execution_count": 30,
     "metadata": {},
     "output_type": "execute_result"
    }
   ],
   "source": [
    "df['sales_total'] = df.sale_amount * df.item_price\n",
    "df.head()"
   ]
  },
  {
   "cell_type": "markdown",
   "id": "1bd4bc36",
   "metadata": {},
   "source": [
    "## 6. Make sure all the work that you have done above is reproducible. That is, you should put the code above into separate functions and be able to re-run the functions and get the same results."
   ]
  },
  {
   "cell_type": "code",
   "execution_count": 35,
   "id": "2939b63e",
   "metadata": {},
   "outputs": [],
   "source": [
    "import os\n",
    "\n",
    "def store_data():\n",
    "    \n",
    "    filename = 'stores.csv'\n",
    "    \n",
    "    if os.path.isfile(filename):\n",
    "        \n",
    "        print('Found Data')\n",
    "        \n",
    "        return pd.read_csv(filename)\n",
    "    \n",
    "    else:\n",
    "    \n",
    "        print('Retrieving Data')\n",
    "\n",
    "        query = '''\n",
    "                SELECT sale_date, sale_amount,\n",
    "                item_brand, item_name, item_price,\n",
    "                store_address, store_zipcode,\n",
    "                store_city, store_state \n",
    "                FROM sales\n",
    "                LEFT JOIN items USING (item_id)\n",
    "                LEFT JOIN stores USING(store_id)\n",
    "                '''\n",
    "        url = get_connection('tsa_item_demand')\n",
    "\n",
    "        df = pd.read_sql(query, url)\n",
    "\n",
    "        df.to_csv(filename, index = 0)\n",
    "\n",
    "        return df"
   ]
  },
  {
   "cell_type": "code",
   "execution_count": 37,
   "id": "0f889b9a",
   "metadata": {},
   "outputs": [
    {
     "name": "stdout",
     "output_type": "stream",
     "text": [
      "Found Data\n"
     ]
    },
    {
     "data": {
      "text/html": [
       "<div>\n",
       "<style scoped>\n",
       "    .dataframe tbody tr th:only-of-type {\n",
       "        vertical-align: middle;\n",
       "    }\n",
       "\n",
       "    .dataframe tbody tr th {\n",
       "        vertical-align: top;\n",
       "    }\n",
       "\n",
       "    .dataframe thead th {\n",
       "        text-align: right;\n",
       "    }\n",
       "</style>\n",
       "<table border=\"1\" class=\"dataframe\">\n",
       "  <thead>\n",
       "    <tr style=\"text-align: right;\">\n",
       "      <th></th>\n",
       "      <th>sale_date</th>\n",
       "      <th>sale_amount</th>\n",
       "      <th>item_brand</th>\n",
       "      <th>item_name</th>\n",
       "      <th>item_price</th>\n",
       "      <th>store_address</th>\n",
       "      <th>store_zipcode</th>\n",
       "      <th>store_city</th>\n",
       "      <th>store_state</th>\n",
       "    </tr>\n",
       "  </thead>\n",
       "  <tbody>\n",
       "    <tr>\n",
       "      <th>0</th>\n",
       "      <td>2013-01-01</td>\n",
       "      <td>13</td>\n",
       "      <td>Riceland</td>\n",
       "      <td>Riceland American Jazmine Rice</td>\n",
       "      <td>0.84</td>\n",
       "      <td>12125 Alamo Ranch Pkwy</td>\n",
       "      <td>78253</td>\n",
       "      <td>San Antonio</td>\n",
       "      <td>TX</td>\n",
       "    </tr>\n",
       "    <tr>\n",
       "      <th>1</th>\n",
       "      <td>2013-01-02</td>\n",
       "      <td>11</td>\n",
       "      <td>Riceland</td>\n",
       "      <td>Riceland American Jazmine Rice</td>\n",
       "      <td>0.84</td>\n",
       "      <td>12125 Alamo Ranch Pkwy</td>\n",
       "      <td>78253</td>\n",
       "      <td>San Antonio</td>\n",
       "      <td>TX</td>\n",
       "    </tr>\n",
       "    <tr>\n",
       "      <th>2</th>\n",
       "      <td>2013-01-03</td>\n",
       "      <td>14</td>\n",
       "      <td>Riceland</td>\n",
       "      <td>Riceland American Jazmine Rice</td>\n",
       "      <td>0.84</td>\n",
       "      <td>12125 Alamo Ranch Pkwy</td>\n",
       "      <td>78253</td>\n",
       "      <td>San Antonio</td>\n",
       "      <td>TX</td>\n",
       "    </tr>\n",
       "    <tr>\n",
       "      <th>3</th>\n",
       "      <td>2013-01-04</td>\n",
       "      <td>13</td>\n",
       "      <td>Riceland</td>\n",
       "      <td>Riceland American Jazmine Rice</td>\n",
       "      <td>0.84</td>\n",
       "      <td>12125 Alamo Ranch Pkwy</td>\n",
       "      <td>78253</td>\n",
       "      <td>San Antonio</td>\n",
       "      <td>TX</td>\n",
       "    </tr>\n",
       "    <tr>\n",
       "      <th>4</th>\n",
       "      <td>2013-01-05</td>\n",
       "      <td>10</td>\n",
       "      <td>Riceland</td>\n",
       "      <td>Riceland American Jazmine Rice</td>\n",
       "      <td>0.84</td>\n",
       "      <td>12125 Alamo Ranch Pkwy</td>\n",
       "      <td>78253</td>\n",
       "      <td>San Antonio</td>\n",
       "      <td>TX</td>\n",
       "    </tr>\n",
       "  </tbody>\n",
       "</table>\n",
       "</div>"
      ],
      "text/plain": [
       "    sale_date  sale_amount item_brand                       item_name  \\\n",
       "0  2013-01-01           13   Riceland  Riceland American Jazmine Rice   \n",
       "1  2013-01-02           11   Riceland  Riceland American Jazmine Rice   \n",
       "2  2013-01-03           14   Riceland  Riceland American Jazmine Rice   \n",
       "3  2013-01-04           13   Riceland  Riceland American Jazmine Rice   \n",
       "4  2013-01-05           10   Riceland  Riceland American Jazmine Rice   \n",
       "\n",
       "   item_price           store_address  store_zipcode   store_city store_state  \n",
       "0        0.84  12125 Alamo Ranch Pkwy          78253  San Antonio          TX  \n",
       "1        0.84  12125 Alamo Ranch Pkwy          78253  San Antonio          TX  \n",
       "2        0.84  12125 Alamo Ranch Pkwy          78253  San Antonio          TX  \n",
       "3        0.84  12125 Alamo Ranch Pkwy          78253  San Antonio          TX  \n",
       "4        0.84  12125 Alamo Ranch Pkwy          78253  San Antonio          TX  "
      ]
     },
     "execution_count": 37,
     "metadata": {},
     "output_type": "execute_result"
    }
   ],
   "source": [
    "df = store_data()\n",
    "df.head()"
   ]
  },
  {
   "cell_type": "code",
   "execution_count": 38,
   "id": "066ed7b8",
   "metadata": {},
   "outputs": [],
   "source": [
    "def prep_store():\n",
    "    \n",
    "    df = store_data()\n",
    "\n",
    "    df.sale_date = pd.to_datetime(df.sale_date)\n",
    "\n",
    "    df = df.set_index('sale_date').sort_index()\n",
    "\n",
    "    df['month'] = df.index.month_name()\n",
    "\n",
    "    df['day'] = df.index.day_name()\n",
    "\n",
    "    df['sales_total'] = df.sale_amount * df.item_price\n",
    "    \n",
    "    return df"
   ]
  },
  {
   "cell_type": "code",
   "execution_count": 40,
   "id": "0fdc7a6b",
   "metadata": {},
   "outputs": [
    {
     "name": "stdout",
     "output_type": "stream",
     "text": [
      "Found Data\n"
     ]
    },
    {
     "data": {
      "text/html": [
       "<div>\n",
       "<style scoped>\n",
       "    .dataframe tbody tr th:only-of-type {\n",
       "        vertical-align: middle;\n",
       "    }\n",
       "\n",
       "    .dataframe tbody tr th {\n",
       "        vertical-align: top;\n",
       "    }\n",
       "\n",
       "    .dataframe thead th {\n",
       "        text-align: right;\n",
       "    }\n",
       "</style>\n",
       "<table border=\"1\" class=\"dataframe\">\n",
       "  <thead>\n",
       "    <tr style=\"text-align: right;\">\n",
       "      <th></th>\n",
       "      <th>sale_amount</th>\n",
       "      <th>item_brand</th>\n",
       "      <th>item_name</th>\n",
       "      <th>item_price</th>\n",
       "      <th>store_address</th>\n",
       "      <th>store_zipcode</th>\n",
       "      <th>store_city</th>\n",
       "      <th>store_state</th>\n",
       "      <th>month</th>\n",
       "      <th>day</th>\n",
       "      <th>sales_total</th>\n",
       "    </tr>\n",
       "    <tr>\n",
       "      <th>sale_date</th>\n",
       "      <th></th>\n",
       "      <th></th>\n",
       "      <th></th>\n",
       "      <th></th>\n",
       "      <th></th>\n",
       "      <th></th>\n",
       "      <th></th>\n",
       "      <th></th>\n",
       "      <th></th>\n",
       "      <th></th>\n",
       "      <th></th>\n",
       "    </tr>\n",
       "  </thead>\n",
       "  <tbody>\n",
       "    <tr>\n",
       "      <th>2013-01-01</th>\n",
       "      <td>13</td>\n",
       "      <td>Riceland</td>\n",
       "      <td>Riceland American Jazmine Rice</td>\n",
       "      <td>0.84</td>\n",
       "      <td>12125 Alamo Ranch Pkwy</td>\n",
       "      <td>78253</td>\n",
       "      <td>San Antonio</td>\n",
       "      <td>TX</td>\n",
       "      <td>January</td>\n",
       "      <td>Tuesday</td>\n",
       "      <td>10.92</td>\n",
       "    </tr>\n",
       "    <tr>\n",
       "      <th>2013-01-01</th>\n",
       "      <td>26</td>\n",
       "      <td>Mueller</td>\n",
       "      <td>Mueller Sport Care Basic Support Level Medium ...</td>\n",
       "      <td>8.40</td>\n",
       "      <td>12018 Perrin Beitel Rd</td>\n",
       "      <td>78217</td>\n",
       "      <td>San Antonio</td>\n",
       "      <td>TX</td>\n",
       "      <td>January</td>\n",
       "      <td>Tuesday</td>\n",
       "      <td>218.40</td>\n",
       "    </tr>\n",
       "    <tr>\n",
       "      <th>2013-01-01</th>\n",
       "      <td>27</td>\n",
       "      <td>Mama Marys</td>\n",
       "      <td>Pizza Sauce</td>\n",
       "      <td>4.65</td>\n",
       "      <td>12018 Perrin Beitel Rd</td>\n",
       "      <td>78217</td>\n",
       "      <td>San Antonio</td>\n",
       "      <td>TX</td>\n",
       "      <td>January</td>\n",
       "      <td>Tuesday</td>\n",
       "      <td>125.55</td>\n",
       "    </tr>\n",
       "    <tr>\n",
       "      <th>2013-01-01</th>\n",
       "      <td>54</td>\n",
       "      <td>Mueller</td>\n",
       "      <td>Mueller Sport Care Basic Support Level Medium ...</td>\n",
       "      <td>8.40</td>\n",
       "      <td>15000 San Pedro Ave</td>\n",
       "      <td>78232</td>\n",
       "      <td>San Antonio</td>\n",
       "      <td>TX</td>\n",
       "      <td>January</td>\n",
       "      <td>Tuesday</td>\n",
       "      <td>453.60</td>\n",
       "    </tr>\n",
       "    <tr>\n",
       "      <th>2013-01-01</th>\n",
       "      <td>35</td>\n",
       "      <td>Mueller</td>\n",
       "      <td>Mueller Sport Care Basic Support Level Medium ...</td>\n",
       "      <td>8.40</td>\n",
       "      <td>735 SW Military Dr</td>\n",
       "      <td>78221</td>\n",
       "      <td>San Antonio</td>\n",
       "      <td>TX</td>\n",
       "      <td>January</td>\n",
       "      <td>Tuesday</td>\n",
       "      <td>294.00</td>\n",
       "    </tr>\n",
       "  </tbody>\n",
       "</table>\n",
       "</div>"
      ],
      "text/plain": [
       "            sale_amount  item_brand  \\\n",
       "sale_date                             \n",
       "2013-01-01           13    Riceland   \n",
       "2013-01-01           26     Mueller   \n",
       "2013-01-01           27  Mama Marys   \n",
       "2013-01-01           54     Mueller   \n",
       "2013-01-01           35     Mueller   \n",
       "\n",
       "                                                    item_name  item_price  \\\n",
       "sale_date                                                                   \n",
       "2013-01-01                     Riceland American Jazmine Rice        0.84   \n",
       "2013-01-01  Mueller Sport Care Basic Support Level Medium ...        8.40   \n",
       "2013-01-01                                        Pizza Sauce        4.65   \n",
       "2013-01-01  Mueller Sport Care Basic Support Level Medium ...        8.40   \n",
       "2013-01-01  Mueller Sport Care Basic Support Level Medium ...        8.40   \n",
       "\n",
       "                     store_address  store_zipcode   store_city store_state  \\\n",
       "sale_date                                                                    \n",
       "2013-01-01  12125 Alamo Ranch Pkwy          78253  San Antonio          TX   \n",
       "2013-01-01  12018 Perrin Beitel Rd          78217  San Antonio          TX   \n",
       "2013-01-01  12018 Perrin Beitel Rd          78217  San Antonio          TX   \n",
       "2013-01-01     15000 San Pedro Ave          78232  San Antonio          TX   \n",
       "2013-01-01      735 SW Military Dr          78221  San Antonio          TX   \n",
       "\n",
       "              month      day  sales_total  \n",
       "sale_date                                  \n",
       "2013-01-01  January  Tuesday        10.92  \n",
       "2013-01-01  January  Tuesday       218.40  \n",
       "2013-01-01  January  Tuesday       125.55  \n",
       "2013-01-01  January  Tuesday       453.60  \n",
       "2013-01-01  January  Tuesday       294.00  "
      ]
     },
     "execution_count": 40,
     "metadata": {},
     "output_type": "execute_result"
    }
   ],
   "source": [
    "df = prep_store()\n",
    "df.head()"
   ]
  },
  {
   "cell_type": "code",
   "execution_count": null,
   "id": "9b910efe",
   "metadata": {},
   "outputs": [],
   "source": [
    "for col in df.columns:\n",
    "    "
   ]
  },
  {
   "cell_type": "code",
   "execution_count": 159,
   "id": "21bffb8d",
   "metadata": {},
   "outputs": [],
   "source": [
    "def plt_dist(df, feats, loop = False):\n",
    "    \n",
    "    if loop:\n",
    "        \n",
    "        for col in df.columns:\n",
    "\n",
    "            plt.hist(df[col], bins = 50)\n",
    "\n",
    "            plt.xlabel(f'{col.replace(\"_\", \" \").title()}')\n",
    "\n",
    "            plt.ylabel('Count')\n",
    "\n",
    "            plt.title(f'Distribution of {col.replace(\"_\", \" \").title()}')\n",
    "\n",
    "            plt.show()\n",
    "            \n",
    "    else: \n",
    "        \n",
    "        plt.hist(df[feats], bins = 50)\n",
    "\n",
    "        plt.xlabel(f'{feats.replace(\"_\", \" \").title()}')\n",
    "\n",
    "        plt.ylabel('Count')\n",
    "\n",
    "        plt.title(f'Distribution of {feats.replace(\"_\", \" \").title()}')\n",
    "\n",
    "        plt.show()"
   ]
  },
  {
   "cell_type": "code",
   "execution_count": 160,
   "id": "f5ecd8aa",
   "metadata": {
    "scrolled": false
   },
   "outputs": [
    {
     "data": {
      "image/png": "[encoded data removed]",
      "text/plain": [
       "<Figure size 640x480 with 1 Axes>"
      ]
     },
     "metadata": {},
     "output_type": "display_data"
    }
   ],
   "source": [
    "plt_dist(df, 'sale_amount')"
   ]
  },
  {
   "cell_type": "code",
   "execution_count": 152,
   "id": "4685085c",
   "metadata": {},
   "outputs": [],
   "source": [
    "def summarize(df):\n",
    "    \n",
    "    text = 'Shape:'\n",
    "    bold_text = f'<b>{text}</b>'\n",
    "    display(HTML(bold_text))\n",
    "    print(df.shape)\n",
    "    print('_________________________________________________')\n",
    "\n",
    "    text = 'Null Values:'\n",
    "    bold_text = f'<b>{text}</b>'\n",
    "    display(HTML(bold_text))\n",
    "    print('')\n",
    "    print(df.isna().sum())\n",
    "    print('')\n",
    "    print('_________________________________________________')\n",
    "    \n",
    "    text = 'Info:'\n",
    "    bold_text = f'<b>{text}</b>'\n",
    "    display(HTML(bold_text))\n",
    "    df.info()\n",
    "    print('')\n",
    "    print('_________________________________________________')\n",
    "    \n",
    "    for col in df.columns.values:\n",
    "        text = f'Value Count for {col}:'\n",
    "        bold_text = f'<b>{text}</b>'\n",
    "        display(HTML(bold_text))\n",
    "\n",
    "        print('')\n",
    "        vc = df[col].value_counts()\n",
    "        print(vc)\n",
    "        print('_________________________________________________')\n",
    "        print('')"
   ]
  },
  {
   "cell_type": "code",
   "execution_count": 153,
   "id": "f0a4b556",
   "metadata": {
    "scrolled": false
   },
   "outputs": [
    {
     "data": {
      "text/html": [
       "<b>Shape:</b>"
      ],
      "text/plain": [
       "<IPython.core.display.HTML object>"
      ]
     },
     "metadata": {},
     "output_type": "display_data"
    },
    {
     "name": "stdout",
     "output_type": "stream",
     "text": [
      "(913000, 11)\n",
      "_________________________________________________\n"
     ]
    },
    {
     "data": {
      "text/html": [
       "<b>Null Values:</b>"
      ],
      "text/plain": [
       "<IPython.core.display.HTML object>"
      ]
     },
     "metadata": {},
     "output_type": "display_data"
    },
    {
     "name": "stdout",
     "output_type": "stream",
     "text": [
      "\n",
      "sale_amount      0\n",
      "item_brand       0\n",
      "item_name        0\n",
      "item_price       0\n",
      "store_address    0\n",
      "store_zipcode    0\n",
      "store_city       0\n",
      "store_state      0\n",
      "month            0\n",
      "day              0\n",
      "sales_total      0\n",
      "dtype: int64\n",
      "\n",
      "_________________________________________________\n"
     ]
    },
    {
     "data": {
      "text/html": [
       "<b>Info:</b>"
      ],
      "text/plain": [
       "<IPython.core.display.HTML object>"
      ]
     },
     "metadata": {},
     "output_type": "display_data"
    },
    {
     "name": "stdout",
     "output_type": "stream",
     "text": [
      "<class 'pandas.core.frame.DataFrame'>\n",
      "DatetimeIndex: 913000 entries, 2013-01-01 to 2017-12-31\n",
      "Data columns (total 11 columns):\n",
      " #   Column         Non-Null Count   Dtype  \n",
      "---  ------         --------------   -----  \n",
      " 0   sale_amount    913000 non-null  int64  \n",
      " 1   item_brand     913000 non-null  object \n",
      " 2   item_name      913000 non-null  object \n",
      " 3   item_price     913000 non-null  float64\n",
      " 4   store_address  913000 non-null  object \n",
      " 5   store_zipcode  913000 non-null  int64  \n",
      " 6   store_city     913000 non-null  object \n",
      " 7   store_state    913000 non-null  object \n",
      " 8   month          913000 non-null  object \n",
      " 9   day            913000 non-null  object \n",
      " 10  sales_total    913000 non-null  float64\n",
      "dtypes: float64(2), int64(2), object(7)\n",
      "memory usage: 83.6+ MB\n",
      "\n",
      "_________________________________________________\n"
     ]
    },
    {
     "data": {
      "text/html": [
       "<b>Value Count for sale_amount:</b>"
      ],
      "text/plain": [
       "<IPython.core.display.HTML object>"
      ]
     },
     "metadata": {},
     "output_type": "display_data"
    },
    {
     "name": "stdout",
     "output_type": "stream",
     "text": [
      "\n",
      "30     14283\n",
      "27     14231\n",
      "26     14212\n",
      "29     14178\n",
      "28     14164\n",
      "       ...  \n",
      "199        1\n",
      "214        1\n",
      "207        1\n",
      "0          1\n",
      "201        1\n",
      "Name: sale_amount, Length: 213, dtype: int64\n",
      "_________________________________________________\n",
      "\n"
     ]
    },
    {
     "data": {
      "text/html": [
       "<b>Value Count for item_brand:</b>"
      ],
      "text/plain": [
       "<IPython.core.display.HTML object>"
      ]
     },
     "metadata": {},
     "output_type": "display_data"
    },
    {
     "name": "stdout",
     "output_type": "stream",
     "text": [
      "\n",
      "Usda Produce              36520\n",
      "Riceland                  18260\n",
      "Sally Hansen              18260\n",
      "Munchies                  18260\n",
      "Zhenas Gypsy Tea          18260\n",
      "Barefoot                  18260\n",
      "Amys                      18260\n",
      "Heinz                     18260\n",
      "Natures Way               18260\n",
      "Sundown Naturals          18260\n",
      "Nakano                    18260\n",
      "Deerfields Gluten Free    18260\n",
      "The First Years           18260\n",
      "Halls                     18260\n",
      "Ferrara                   18260\n",
      "Doctors Best              18260\n",
      "Betty Crocker             18260\n",
      "Moms Best Naturals        18260\n",
      "Reese                     18260\n",
      "Triaminic                 18260\n",
      "P.f. Changs               18260\n",
      "Morton                    18260\n",
      "Hood                      18260\n",
      "Petmate                   18260\n",
      "Twinings Of London        18260\n",
      "Mueller                   18260\n",
      "Van De Kamps              18260\n",
      "Mama Marys                18260\n",
      "Garnier Nutritioniste     18260\n",
      "Pamprin                   18260\n",
      "Kelloggs                  18260\n",
      "Ahold                     18260\n",
      "Bear Naked                18260\n",
      "Honest Tea                18260\n",
      "Elmers                    18260\n",
      "Ducal                     18260\n",
      "Scotch                    18260\n",
      "Careone                   18260\n",
      "Burts Bees                18260\n",
      "Suave                     18260\n",
      "Earths Best               18260\n",
      "Choice                    18260\n",
      "Easy-off                  18260\n",
      "Boars Head                18260\n",
      "Back To Nature            18260\n",
      "Caress                    18260\n",
      "Lea & Perrins             18260\n",
      "Dove                      18260\n",
      "Smart Living              18260\n",
      "Name: item_brand, dtype: int64\n",
      "_________________________________________________\n",
      "\n"
     ]
    },
    {
     "data": {
      "text/html": [
       "<b>Value Count for item_name:</b>"
      ],
      "text/plain": [
       "<IPython.core.display.HTML object>"
      ]
     },
     "metadata": {},
     "output_type": "display_data"
    },
    {
     "name": "stdout",
     "output_type": "stream",
     "text": [
      "\n",
      "Riceland American Jazmine Rice                                                                       18260\n",
      "Tomy The First Years Gumdrop Orthodontic Pacifiers 6m+ - 2ct                                         18260\n",
      "Munchies Sandwich Crackers Cheddar Cheese On Golden Toast Crackers - 8 Pk                            18260\n",
      "Zhenas Gypsy Tea Herbal Red Tea Sachets Fire Light Chai - 22 Ct                                      18260\n",
      "Barefoot Pinot Grigio  187                                                                           18260\n",
      "Guava                                                                                                18260\n",
      "Amys Light & Lean Spaghetti Italiano                                                                 18260\n",
      "Heinz Tomato Ketchup - 2 Ct                                                                          18260\n",
      "Natures Way Forskohlii - 60 Ct                                                                       18260\n",
      "Sundown Naturals Essential Electrolytes Tropical Punch Watermelon And Fruit Punch Gummies - 60 Ct    18260\n",
      "Nakano Seasoned Rice Vinegar Original                                                                18260\n",
      "Rice Bran Gluten Free Dinner Rolls Plain                                                             18260\n",
      "Halls Menthol Cough Suppresant/oral Anesthetic Drops Honey-lemon - 30 Ct                             18260\n",
      "Mueller Sport Care Basic Support Level Medium Elastic Knee Support                                   18260\n",
      "Ferrara Vanilla Syrup                                                                                18260\n",
      "Doctors Best Best Curcumin C3 Complex 1000mg Tablets - 120 Ct                                        18260\n",
      "Betty Crocker Twin Pack Real Potatoes Scalloped 2 Pouches For 2 Meals - 2 Pk                         18260\n",
      "Moms Best Naturals Cereal Toasted Cinnamon Squares                                                   18260\n",
      "Reese Mandarin Oranges Segments In Light Syrup                                                       18260\n",
      "Plums Black                                                                                          18260\n",
      "Triaminic Syrup Night Time Cold & Cough Grape 4oz                                                    18260\n",
      "P.f. Changs Home Menu Meal For Two Beef With Broccoli                                                18260\n",
      "Morton Kosher Salt Coarse                                                                            18260\n",
      "Hood Latte Iced Coffee Drink Vanilla Latte                                                           18260\n",
      "Petmate Booda Bones Steak Bacon & Chicken Flavors - 9 Ct                                             18260\n",
      "Sally Hansen Nail Color Magnetic 903 Silver Elements                                                 18260\n",
      "Twinings Of London Classics Lady Grey Tea - 20 Ct                                                    18260\n",
      "Van De Kamps Fillets Beer Battered - 10 Ct                                                           18260\n",
      "Pizza Sauce                                                                                          18260\n",
      "Garnier Nutritioniste Moisture Rescue Fresh Cleansing Foam                                           18260\n",
      "Pamprin Maximum Strength Multi-symptom Menstrual Pain Relief                                         18260\n",
      "Kelloggs Disney Pixar Cars 2 Cereal                                                                  18260\n",
      "Ahold Cocoa Almonds                                                                                  18260\n",
      "Bear Naked Fit Almond Crisp 100 Percent Natural Energy Cereal                                        18260\n",
      "Honest Tea Peach White Tea                                                                           18260\n",
      "Elmers Board Mate Dual Tip Glue Pen                                                                  18260\n",
      "Ducal Refried Red Beans                                                                              18260\n",
      "Scotch Removable Clear Mounting Squares - 35 Ct                                                      18260\n",
      "Careone Family Comb Set - 8 Ct                                                                       18260\n",
      "Burts Bees Daily Moisturizing Cream Sensitive                                                        18260\n",
      "Suave Naturals Moisturizing Body Wash Creamy Tropical Coconut                                        18260\n",
      "Earths Best Organic Fruit Yogurt Smoothie Mixed Berry                                                18260\n",
      "Choice Organic Teas Black Tea Classic Black - 16 Ct                                                  18260\n",
      "Easy-off Oven Cleaner Lemon Scent                                                                    18260\n",
      "Boars Head Sliced White American Cheese - 120 Ct                                                     18260\n",
      "Back To Nature Gluten Free White Cheddar Rice Thin Crackers                                          18260\n",
      "Caress Velvet Bliss Ultra Silkening Beauty Bar - 6 Ct                                                18260\n",
      "Lea & Perrins Marinade In-a-bag Cracked Peppercorn                                                   18260\n",
      "Dove Men + Care Antiperspirant Deodorant Cool Silver                                                 18260\n",
      "Smart Living Charcoal Lighter Fluid                                                                  18260\n",
      "Name: item_name, dtype: int64\n",
      "_________________________________________________\n",
      "\n"
     ]
    },
    {
     "data": {
      "text/html": [
       "<b>Value Count for item_price:</b>"
      ],
      "text/plain": [
       "<IPython.core.display.HTML object>"
      ]
     },
     "metadata": {},
     "output_type": "display_data"
    },
    {
     "name": "stdout",
     "output_type": "stream",
     "text": [
      "\n",
      "8.40    36520\n",
      "5.62    36520\n",
      "2.43    36520\n",
      "3.45    18260\n",
      "8.39    18260\n",
      "9.02    18260\n",
      "4.21    18260\n",
      "0.68    18260\n",
      "7.52    18260\n",
      "0.60    18260\n",
      "8.65    18260\n",
      "5.19    18260\n",
      "0.84    18260\n",
      "6.93    18260\n",
      "7.95    18260\n",
      "6.52    18260\n",
      "4.17    18260\n",
      "8.09    18260\n",
      "7.31    18260\n",
      "2.97    18260\n",
      "1.78    18260\n",
      "0.98    18260\n",
      "6.01    18260\n",
      "9.59    18260\n",
      "1.79    18260\n",
      "9.64    18260\n",
      "3.72    18260\n",
      "4.65    18260\n",
      "6.47    18260\n",
      "7.54    18260\n",
      "4.40    18260\n",
      "3.17    18260\n",
      "7.38    18260\n",
      "3.93    18260\n",
      "7.06    18260\n",
      "1.16    18260\n",
      "4.39    18260\n",
      "0.74    18260\n",
      "5.17    18260\n",
      "9.11    18260\n",
      "5.20    18260\n",
      "9.54    18260\n",
      "3.14    18260\n",
      "2.61    18260\n",
      "6.44    18260\n",
      "1.68    18260\n",
      "5.34    18260\n",
      "Name: item_price, dtype: int64\n",
      "_________________________________________________\n",
      "\n"
     ]
    },
    {
     "data": {
      "text/html": [
       "<b>Value Count for store_address:</b>"
      ],
      "text/plain": [
       "<IPython.core.display.HTML object>"
      ]
     },
     "metadata": {},
     "output_type": "display_data"
    },
    {
     "name": "stdout",
     "output_type": "stream",
     "text": [
      "\n",
      "12125 Alamo Ranch Pkwy     91300\n",
      "12018 Perrin Beitel Rd     91300\n",
      "15000 San Pedro Ave        91300\n",
      "735 SW Military Dr         91300\n",
      "8503 NW Military Hwy       91300\n",
      "1015 S WW White Rd         91300\n",
      "9255 FM 471 West           91300\n",
      "1520 Austin Hwy            91300\n",
      "2118 Fredericksburg Rdj    91300\n",
      "516 S Flores St            91300\n",
      "Name: store_address, dtype: int64\n",
      "_________________________________________________\n",
      "\n"
     ]
    },
    {
     "data": {
      "text/html": [
       "<b>Value Count for store_zipcode:</b>"
      ],
      "text/plain": [
       "<IPython.core.display.HTML object>"
      ]
     },
     "metadata": {},
     "output_type": "display_data"
    },
    {
     "name": "stdout",
     "output_type": "stream",
     "text": [
      "\n",
      "78253    91300\n",
      "78217    91300\n",
      "78232    91300\n",
      "78221    91300\n",
      "78231    91300\n",
      "78220    91300\n",
      "78251    91300\n",
      "78218    91300\n",
      "78201    91300\n",
      "78204    91300\n",
      "Name: store_zipcode, dtype: int64\n",
      "_________________________________________________\n",
      "\n"
     ]
    },
    {
     "data": {
      "text/html": [
       "<b>Value Count for store_city:</b>"
      ],
      "text/plain": [
       "<IPython.core.display.HTML object>"
      ]
     },
     "metadata": {},
     "output_type": "display_data"
    },
    {
     "name": "stdout",
     "output_type": "stream",
     "text": [
      "\n",
      "San Antonio    913000\n",
      "Name: store_city, dtype: int64\n",
      "_________________________________________________\n",
      "\n"
     ]
    },
    {
     "data": {
      "text/html": [
       "<b>Value Count for store_state:</b>"
      ],
      "text/plain": [
       "<IPython.core.display.HTML object>"
      ]
     },
     "metadata": {},
     "output_type": "display_data"
    },
    {
     "name": "stdout",
     "output_type": "stream",
     "text": [
      "\n",
      "TX    913000\n",
      "Name: store_state, dtype: int64\n",
      "_________________________________________________\n",
      "\n"
     ]
    },
    {
     "data": {
      "text/html": [
       "<b>Value Count for month:</b>"
      ],
      "text/plain": [
       "<IPython.core.display.HTML object>"
      ]
     },
     "metadata": {},
     "output_type": "display_data"
    },
    {
     "name": "stdout",
     "output_type": "stream",
     "text": [
      "\n",
      "January      77500\n",
      "March        77500\n",
      "May          77500\n",
      "July         77500\n",
      "August       77500\n",
      "October      77500\n",
      "December     77500\n",
      "April        75000\n",
      "June         75000\n",
      "September    75000\n",
      "November     75000\n",
      "February     70500\n",
      "Name: month, dtype: int64\n",
      "_________________________________________________\n",
      "\n"
     ]
    },
    {
     "data": {
      "text/html": [
       "<b>Value Count for day:</b>"
      ],
      "text/plain": [
       "<IPython.core.display.HTML object>"
      ]
     },
     "metadata": {},
     "output_type": "display_data"
    },
    {
     "name": "stdout",
     "output_type": "stream",
     "text": [
      "\n",
      "Tuesday      130500\n",
      "Wednesday    130500\n",
      "Thursday     130500\n",
      "Friday       130500\n",
      "Saturday     130500\n",
      "Sunday       130500\n",
      "Monday       130000\n",
      "Name: day, dtype: int64\n",
      "_________________________________________________\n",
      "\n"
     ]
    },
    {
     "data": {
      "text/html": [
       "<b>Value Count for sales_total:</b>"
      ],
      "text/plain": [
       "<IPython.core.display.HTML object>"
      ]
     },
     "metadata": {},
     "output_type": "display_data"
    },
    {
     "name": "stdout",
     "output_type": "stream",
     "text": [
      "\n",
      "41.76      1534\n",
      "16.80      1489\n",
      "12.60      1346\n",
      "52.20      1208\n",
      "80.19      1145\n",
      "           ... \n",
      "124.27        1\n",
      "102.34        1\n",
      "1903.99       1\n",
      "568.35        1\n",
      "1206.15       1\n",
      "Name: sales_total, Length: 5332, dtype: int64\n",
      "_________________________________________________\n",
      "\n"
     ]
    }
   ],
   "source": [
    "summarize(df)"
   ]
  },
  {
   "cell_type": "code",
   "execution_count": 136,
   "id": "3dbfe521",
   "metadata": {},
   "outputs": [],
   "source": [
    "from IPython.display import HTML, display"
   ]
  },
  {
   "cell_type": "code",
   "execution_count": 140,
   "id": "c209b39e",
   "metadata": {
    "scrolled": false
   },
   "outputs": [
    {
     "data": {
      "text/html": [
       "<b>Value Count for sale_amount:</b>"
      ],
      "text/plain": [
       "<IPython.core.display.HTML object>"
      ]
     },
     "metadata": {},
     "output_type": "display_data"
    },
    {
     "name": "stdout",
     "output_type": "stream",
     "text": [
      "\n",
      "30     14283\n",
      "27     14231\n",
      "26     14212\n",
      "29     14178\n",
      "28     14164\n",
      "       ...  \n",
      "199        1\n",
      "214        1\n",
      "207        1\n",
      "0          1\n",
      "201        1\n",
      "Name: sale_amount, Length: 213, dtype: int64\n",
      "_________________________________________________\n",
      "\n"
     ]
    },
    {
     "data": {
      "text/html": [
       "<b>Value Count for item_brand:</b>"
      ],
      "text/plain": [
       "<IPython.core.display.HTML object>"
      ]
     },
     "metadata": {},
     "output_type": "display_data"
    },
    {
     "name": "stdout",
     "output_type": "stream",
     "text": [
      "\n",
      "Usda Produce              36520\n",
      "Riceland                  18260\n",
      "Sally Hansen              18260\n",
      "Munchies                  18260\n",
      "Zhenas Gypsy Tea          18260\n",
      "Barefoot                  18260\n",
      "Amys                      18260\n",
      "Heinz                     18260\n",
      "Natures Way               18260\n",
      "Sundown Naturals          18260\n",
      "Nakano                    18260\n",
      "Deerfields Gluten Free    18260\n",
      "The First Years           18260\n",
      "Halls                     18260\n",
      "Ferrara                   18260\n",
      "Doctors Best              18260\n",
      "Betty Crocker             18260\n",
      "Moms Best Naturals        18260\n",
      "Reese                     18260\n",
      "Triaminic                 18260\n",
      "P.f. Changs               18260\n",
      "Morton                    18260\n",
      "Hood                      18260\n",
      "Petmate                   18260\n",
      "Twinings Of London        18260\n",
      "Mueller                   18260\n",
      "Van De Kamps              18260\n",
      "Mama Marys                18260\n",
      "Garnier Nutritioniste     18260\n",
      "Pamprin                   18260\n",
      "Kelloggs                  18260\n",
      "Ahold                     18260\n",
      "Bear Naked                18260\n",
      "Honest Tea                18260\n",
      "Elmers                    18260\n",
      "Ducal                     18260\n",
      "Scotch                    18260\n",
      "Careone                   18260\n",
      "Burts Bees                18260\n",
      "Suave                     18260\n",
      "Earths Best               18260\n",
      "Choice                    18260\n",
      "Easy-off                  18260\n",
      "Boars Head                18260\n",
      "Back To Nature            18260\n",
      "Caress                    18260\n",
      "Lea & Perrins             18260\n",
      "Dove                      18260\n",
      "Smart Living              18260\n",
      "Name: item_brand, dtype: int64\n",
      "_________________________________________________\n",
      "\n"
     ]
    },
    {
     "data": {
      "text/html": [
       "<b>Value Count for item_name:</b>"
      ],
      "text/plain": [
       "<IPython.core.display.HTML object>"
      ]
     },
     "metadata": {},
     "output_type": "display_data"
    },
    {
     "name": "stdout",
     "output_type": "stream",
     "text": [
      "\n",
      "Riceland American Jazmine Rice                                                                       18260\n",
      "Tomy The First Years Gumdrop Orthodontic Pacifiers 6m+ - 2ct                                         18260\n",
      "Munchies Sandwich Crackers Cheddar Cheese On Golden Toast Crackers - 8 Pk                            18260\n",
      "Zhenas Gypsy Tea Herbal Red Tea Sachets Fire Light Chai - 22 Ct                                      18260\n",
      "Barefoot Pinot Grigio  187                                                                           18260\n",
      "Guava                                                                                                18260\n",
      "Amys Light & Lean Spaghetti Italiano                                                                 18260\n",
      "Heinz Tomato Ketchup - 2 Ct                                                                          18260\n",
      "Natures Way Forskohlii - 60 Ct                                                                       18260\n",
      "Sundown Naturals Essential Electrolytes Tropical Punch Watermelon And Fruit Punch Gummies - 60 Ct    18260\n",
      "Nakano Seasoned Rice Vinegar Original                                                                18260\n",
      "Rice Bran Gluten Free Dinner Rolls Plain                                                             18260\n",
      "Halls Menthol Cough Suppresant/oral Anesthetic Drops Honey-lemon - 30 Ct                             18260\n",
      "Mueller Sport Care Basic Support Level Medium Elastic Knee Support                                   18260\n",
      "Ferrara Vanilla Syrup                                                                                18260\n",
      "Doctors Best Best Curcumin C3 Complex 1000mg Tablets - 120 Ct                                        18260\n",
      "Betty Crocker Twin Pack Real Potatoes Scalloped 2 Pouches For 2 Meals - 2 Pk                         18260\n",
      "Moms Best Naturals Cereal Toasted Cinnamon Squares                                                   18260\n",
      "Reese Mandarin Oranges Segments In Light Syrup                                                       18260\n",
      "Plums Black                                                                                          18260\n",
      "Triaminic Syrup Night Time Cold & Cough Grape 4oz                                                    18260\n",
      "P.f. Changs Home Menu Meal For Two Beef With Broccoli                                                18260\n",
      "Morton Kosher Salt Coarse                                                                            18260\n",
      "Hood Latte Iced Coffee Drink Vanilla Latte                                                           18260\n",
      "Petmate Booda Bones Steak Bacon & Chicken Flavors - 9 Ct                                             18260\n",
      "Sally Hansen Nail Color Magnetic 903 Silver Elements                                                 18260\n",
      "Twinings Of London Classics Lady Grey Tea - 20 Ct                                                    18260\n",
      "Van De Kamps Fillets Beer Battered - 10 Ct                                                           18260\n",
      "Pizza Sauce                                                                                          18260\n",
      "Garnier Nutritioniste Moisture Rescue Fresh Cleansing Foam                                           18260\n",
      "Pamprin Maximum Strength Multi-symptom Menstrual Pain Relief                                         18260\n",
      "Kelloggs Disney Pixar Cars 2 Cereal                                                                  18260\n",
      "Ahold Cocoa Almonds                                                                                  18260\n",
      "Bear Naked Fit Almond Crisp 100 Percent Natural Energy Cereal                                        18260\n",
      "Honest Tea Peach White Tea                                                                           18260\n",
      "Elmers Board Mate Dual Tip Glue Pen                                                                  18260\n",
      "Ducal Refried Red Beans                                                                              18260\n",
      "Scotch Removable Clear Mounting Squares - 35 Ct                                                      18260\n",
      "Careone Family Comb Set - 8 Ct                                                                       18260\n",
      "Burts Bees Daily Moisturizing Cream Sensitive                                                        18260\n",
      "Suave Naturals Moisturizing Body Wash Creamy Tropical Coconut                                        18260\n",
      "Earths Best Organic Fruit Yogurt Smoothie Mixed Berry                                                18260\n",
      "Choice Organic Teas Black Tea Classic Black - 16 Ct                                                  18260\n",
      "Easy-off Oven Cleaner Lemon Scent                                                                    18260\n",
      "Boars Head Sliced White American Cheese - 120 Ct                                                     18260\n",
      "Back To Nature Gluten Free White Cheddar Rice Thin Crackers                                          18260\n",
      "Caress Velvet Bliss Ultra Silkening Beauty Bar - 6 Ct                                                18260\n",
      "Lea & Perrins Marinade In-a-bag Cracked Peppercorn                                                   18260\n",
      "Dove Men + Care Antiperspirant Deodorant Cool Silver                                                 18260\n",
      "Smart Living Charcoal Lighter Fluid                                                                  18260\n",
      "Name: item_name, dtype: int64\n",
      "_________________________________________________\n",
      "\n"
     ]
    },
    {
     "data": {
      "text/html": [
       "<b>Value Count for item_price:</b>"
      ],
      "text/plain": [
       "<IPython.core.display.HTML object>"
      ]
     },
     "metadata": {},
     "output_type": "display_data"
    },
    {
     "name": "stdout",
     "output_type": "stream",
     "text": [
      "\n",
      "8.40    36520\n",
      "5.62    36520\n",
      "2.43    36520\n",
      "3.45    18260\n",
      "8.39    18260\n",
      "9.02    18260\n",
      "4.21    18260\n",
      "0.68    18260\n",
      "7.52    18260\n",
      "0.60    18260\n",
      "8.65    18260\n",
      "5.19    18260\n",
      "0.84    18260\n",
      "6.93    18260\n",
      "7.95    18260\n",
      "6.52    18260\n",
      "4.17    18260\n",
      "8.09    18260\n",
      "7.31    18260\n",
      "2.97    18260\n",
      "1.78    18260\n",
      "0.98    18260\n",
      "6.01    18260\n",
      "9.59    18260\n",
      "1.79    18260\n",
      "9.64    18260\n",
      "3.72    18260\n",
      "4.65    18260\n",
      "6.47    18260\n",
      "7.54    18260\n",
      "4.40    18260\n",
      "3.17    18260\n",
      "7.38    18260\n",
      "3.93    18260\n",
      "7.06    18260\n",
      "1.16    18260\n",
      "4.39    18260\n",
      "0.74    18260\n",
      "5.17    18260\n",
      "9.11    18260\n",
      "5.20    18260\n",
      "9.54    18260\n",
      "3.14    18260\n",
      "2.61    18260\n",
      "6.44    18260\n",
      "1.68    18260\n",
      "5.34    18260\n",
      "Name: item_price, dtype: int64\n",
      "_________________________________________________\n",
      "\n"
     ]
    },
    {
     "data": {
      "text/html": [
       "<b>Value Count for store_address:</b>"
      ],
      "text/plain": [
       "<IPython.core.display.HTML object>"
      ]
     },
     "metadata": {},
     "output_type": "display_data"
    },
    {
     "name": "stdout",
     "output_type": "stream",
     "text": [
      "\n",
      "12125 Alamo Ranch Pkwy     91300\n",
      "12018 Perrin Beitel Rd     91300\n",
      "15000 San Pedro Ave        91300\n",
      "735 SW Military Dr         91300\n",
      "8503 NW Military Hwy       91300\n",
      "1015 S WW White Rd         91300\n",
      "9255 FM 471 West           91300\n",
      "1520 Austin Hwy            91300\n",
      "2118 Fredericksburg Rdj    91300\n",
      "516 S Flores St            91300\n",
      "Name: store_address, dtype: int64\n",
      "_________________________________________________\n",
      "\n"
     ]
    },
    {
     "data": {
      "text/html": [
       "<b>Value Count for store_zipcode:</b>"
      ],
      "text/plain": [
       "<IPython.core.display.HTML object>"
      ]
     },
     "metadata": {},
     "output_type": "display_data"
    },
    {
     "name": "stdout",
     "output_type": "stream",
     "text": [
      "\n",
      "78253    91300\n",
      "78217    91300\n",
      "78232    91300\n",
      "78221    91300\n",
      "78231    91300\n",
      "78220    91300\n",
      "78251    91300\n",
      "78218    91300\n",
      "78201    91300\n",
      "78204    91300\n",
      "Name: store_zipcode, dtype: int64\n",
      "_________________________________________________\n",
      "\n"
     ]
    },
    {
     "data": {
      "text/html": [
       "<b>Value Count for store_city:</b>"
      ],
      "text/plain": [
       "<IPython.core.display.HTML object>"
      ]
     },
     "metadata": {},
     "output_type": "display_data"
    },
    {
     "name": "stdout",
     "output_type": "stream",
     "text": [
      "\n",
      "San Antonio    913000\n",
      "Name: store_city, dtype: int64\n",
      "_________________________________________________\n",
      "\n"
     ]
    },
    {
     "data": {
      "text/html": [
       "<b>Value Count for store_state:</b>"
      ],
      "text/plain": [
       "<IPython.core.display.HTML object>"
      ]
     },
     "metadata": {},
     "output_type": "display_data"
    },
    {
     "name": "stdout",
     "output_type": "stream",
     "text": [
      "\n",
      "TX    913000\n",
      "Name: store_state, dtype: int64\n",
      "_________________________________________________\n",
      "\n"
     ]
    },
    {
     "data": {
      "text/html": [
       "<b>Value Count for month:</b>"
      ],
      "text/plain": [
       "<IPython.core.display.HTML object>"
      ]
     },
     "metadata": {},
     "output_type": "display_data"
    },
    {
     "name": "stdout",
     "output_type": "stream",
     "text": [
      "\n",
      "January      77500\n",
      "March        77500\n",
      "May          77500\n",
      "July         77500\n",
      "August       77500\n",
      "October      77500\n",
      "December     77500\n",
      "April        75000\n",
      "June         75000\n",
      "September    75000\n",
      "November     75000\n",
      "February     70500\n",
      "Name: month, dtype: int64\n",
      "_________________________________________________\n",
      "\n"
     ]
    },
    {
     "data": {
      "text/html": [
       "<b>Value Count for day:</b>"
      ],
      "text/plain": [
       "<IPython.core.display.HTML object>"
      ]
     },
     "metadata": {},
     "output_type": "display_data"
    },
    {
     "name": "stdout",
     "output_type": "stream",
     "text": [
      "\n",
      "Tuesday      130500\n",
      "Wednesday    130500\n",
      "Thursday     130500\n",
      "Friday       130500\n",
      "Saturday     130500\n",
      "Sunday       130500\n",
      "Monday       130000\n",
      "Name: day, dtype: int64\n",
      "_________________________________________________\n",
      "\n"
     ]
    },
    {
     "data": {
      "text/html": [
       "<b>Value Count for sales_total:</b>"
      ],
      "text/plain": [
       "<IPython.core.display.HTML object>"
      ]
     },
     "metadata": {},
     "output_type": "display_data"
    },
    {
     "name": "stdout",
     "output_type": "stream",
     "text": [
      "\n",
      "41.76      1534\n",
      "16.80      1489\n",
      "12.60      1346\n",
      "52.20      1208\n",
      "80.19      1145\n",
      "           ... \n",
      "124.27        1\n",
      "102.34        1\n",
      "1903.99       1\n",
      "568.35        1\n",
      "1206.15       1\n",
      "Name: sales_total, Length: 5332, dtype: int64\n",
      "_________________________________________________\n",
      "\n"
     ]
    }
   ],
   "source": [
    "for col in df.columns.values:\n",
    "    text = f'Value Count for {col}:'\n",
    "    bold_text = f'<b>{text}</b>'\n",
    "    display(HTML(bold_text))\n",
    "\n",
    "    print('')\n",
    "    vc = df[col].value_counts()\n",
    "    print(vc)\n",
    "    print('_________________________________________________')\n",
    "    print('')"
   ]
  },
  {
   "cell_type": "code",
   "execution_count": 77,
   "id": "c430b495",
   "metadata": {},
   "outputs": [
    {
     "data": {
      "text/plain": [
       "array(['sale_amount', 'item_brand', 'item_name', 'item_price',\n",
       "       'store_address', 'store_zipcode', 'store_city', 'store_state',\n",
       "       'month', 'day', 'sales_total'], dtype=object)"
      ]
     },
     "execution_count": 77,
     "metadata": {},
     "output_type": "execute_result"
    }
   ],
   "source": [
    "df.columns.values"
   ]
  },
  {
   "cell_type": "code",
   "execution_count": null,
   "id": "7c34092d",
   "metadata": {},
   "outputs": [],
   "source": []
  }
 ],
 "metadata": {
  "kernelspec": {
   "display_name": "Python 3 (ipykernel)",
   "language": "python",
   "name": "python3"
  },
  "language_info": {
   "codemirror_mode": {
    "name": "ipython",
    "version": 3
   },
   "file_extension": ".py",
   "mimetype": "text/x-python",
   "name": "python",
   "nbconvert_exporter": "python",
   "pygments_lexer": "ipython3",
   "version": "3.11.3"
  }
 },
 "nbformat": 4,
 "nbformat_minor": 5
}
